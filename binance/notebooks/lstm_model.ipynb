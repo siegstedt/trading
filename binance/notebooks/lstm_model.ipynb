{
 "cells": [
  {
   "cell_type": "markdown",
   "id": "novel-desperate",
   "metadata": {},
   "source": [
    "# LSTM model for crypto prediction\n",
    "\n",
    "We will build a LSTM model to predict crypto price.\n",
    "\n",
    "**Content**\n",
    "\n",
    "* load data\n",
    "* feature engineering\n",
    "* train model\n",
    "* predict future values\n",
    "* check results\n",
    "\n",
    "Reference for how to build a LSTM model for stock market prediction:\n",
    "* https://www.datacamp.com/community/tutorials/lstm-python-stock-market\n",
    "* https://www.kdnuggets.com/2018/11/keras-long-short-term-memory-lstm-model-predict-stock-prices.html\n",
    "\n",
    "Reference for how to build a multivariate time series forecasting with LSTM:\n",
    "* https://machinelearningmastery.com/multivariate-time-series-forecasting-lstms-keras/\n",
    "* https://www.analyticsvidhya.com/blog/2020/10/multivariate-multi-step-time-series-forecasting-using-stacked-lstm-sequence-to-sequence-autoencoder-in-tensorflow-2-0-keras/"
   ]
  },
  {
   "cell_type": "code",
   "execution_count": 23,
   "id": "talented-justice",
   "metadata": {},
   "outputs": [],
   "source": [
    "# load required packages\n",
    "import pandas as pd\n",
    "import matplotlib.pyplot as plt\n",
    "import datetime as dt\n",
    "import urllib.request\n",
    "import json\n",
    "import os\n",
    "import numpy as np\n",
    "import tensorflow as tf\n",
    "from sklearn.preprocessing import MinMaxScaler"
   ]
  },
  {
   "cell_type": "code",
   "execution_count": 39,
   "id": "worldwide-fruit",
   "metadata": {},
   "outputs": [
    {
     "name": "stdout",
     "output_type": "stream",
     "text": [
      "pandas: 1.2.1\n",
      "json: 2.0.9\n",
      "numpy: 1.19.5\n",
      "tensorflow: 2.4.1\n"
     ]
    }
   ],
   "source": [
    "print(f'pandas: {pd.__version__}')\n",
    "print(f'json: {json.__version__}')\n",
    "print(f'numpy: {np.__version__}')\n",
    "print(f'tensorflow: {tf.__version__}')"
   ]
  },
  {
   "cell_type": "markdown",
   "id": "charged-flash",
   "metadata": {},
   "source": [
    "## Load data\n",
    "\n",
    "With this exercise, we will work with **hourly** ticker data for **ETHEUR**. The data was extracted from the Binance API (see the notebook \"hist_data_from_binance.ipynb\". For reasons of convenience, we will simply load the csv file generated through the other notebook.\n",
    "\n",
    "The data spans over more than 10,000 data points for a total time of a little more than a year: from 2020-01-03 to 2021-02-28. We have open, high, low, close, volume available for every hour of the days included in the dataset."
   ]
  },
  {
   "cell_type": "code",
   "execution_count": 18,
   "id": "closed-freeze",
   "metadata": {},
   "outputs": [
    {
     "name": "stdout",
     "output_type": "stream",
     "text": [
      "Loaded 10125 rows and 6 cols.\n",
      "Here is a preview of the first three lines:\n",
      "                           datetime    open    high     low   close   volume\n",
      "2020-01-03 09:00:00  1578038400000  113.80  115.40  113.80  115.40  1.10270\n",
      "2020-01-03 10:00:00  1578042000000  118.46  118.46  118.46  118.46  0.50000\n",
      "2020-01-03 11:00:00  1578045600000  118.06  118.06  118.02  118.02  1.33288\n"
     ]
    }
   ],
   "source": [
    "filepath = 'binance/data/etheur_2020-01_2021-02_1h.csv'\n",
    "data = pd.read_csv(filepath, index_col=0)\n",
    "print(f\"Loaded {data.shape[0]} rows and {data.shape[1]} cols.\")\n",
    "print(\"Here is a preview of the first three lines:\\n\", data.head(3))"
   ]
  },
  {
   "cell_type": "code",
   "execution_count": 49,
   "id": "union-bundle",
   "metadata": {},
   "outputs": [
    {
     "data": {
      "text/plain": [
       "<AxesSubplot:>"
      ]
     },
     "execution_count": 49,
     "metadata": {},
     "output_type": "execute_result"
    },
    {
     "data": {
      "image/png": "[encoded data removed]",
      "text/plain": [
       "<Figure size 432x288 with 1 Axes>"
      ]
     },
     "metadata": {
      "needs_background": "light"
     },
     "output_type": "display_data"
    }
   ],
   "source": [
    "# visualize the data to validate the load\n",
    "data['close'].plot()"
   ]
  },
  {
   "cell_type": "markdown",
   "id": "nasty-finding",
   "metadata": {},
   "source": [
    "## Feature engineering\n",
    "\n",
    "Prepare the features for that will serve the LSTM model as input."
   ]
  },
  {
   "cell_type": "markdown",
   "id": "friendly-liechtenstein",
   "metadata": {},
   "source": [
    "### prepare more features\n",
    "\n",
    "* mid-price"
   ]
  },
  {
   "cell_type": "code",
   "execution_count": null,
   "id": "frequent-relaxation",
   "metadata": {},
   "outputs": [],
   "source": []
  },
  {
   "cell_type": "markdown",
   "id": "current-facility",
   "metadata": {},
   "source": [
    "### train test split"
   ]
  },
  {
   "cell_type": "code",
   "execution_count": null,
   "id": "embedded-tunisia",
   "metadata": {},
   "outputs": [],
   "source": []
  }
 ],
 "metadata": {
  "kernelspec": {
   "display_name": "Python 3",
   "language": "python",
   "name": "python3"
  },
  "language_info": {
   "codemirror_mode": {
    "name": "ipython",
    "version": 3
   },
   "file_extension": ".py",
   "mimetype": "text/x-python",
   "name": "python",
   "nbconvert_exporter": "python",
   "pygments_lexer": "ipython3",
   "version": "3.8.5"
  }
 },
 "nbformat": 4,
 "nbformat_minor": 5
}
