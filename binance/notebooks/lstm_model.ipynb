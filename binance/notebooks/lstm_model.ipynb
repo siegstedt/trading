{
 "cells": [
  {
   "cell_type": "markdown",
   "id": "changing-ribbon",
   "metadata": {},
   "source": [
    "# LSTM model for crypto prediction using Keras\n",
    "\n",
    "This tutorial illustrates how to get started forecasting time series with LSTM models. Stock market data is a great choice for this because it’s quite regular and widely available to everyone. Please don’t take this as financial advice or use it to make any trades of your own.\n",
    "\n",
    "We will build a LSTM model to predict crypto price.\n",
    "\n",
    "You will learn:\n",
    "\n",
    "- How to transform a raw dataset into something we can use for time series forecasting.\n",
    "- How to prepare data and fit an LSTM for a multivariate time series forecasting problem.\n",
    "- How to make a forecast and rescale the result back into the original units.\n",
    "\n",
    "Reference for how to build a LSTM model for stock market prediction:\n",
    "* https://www.datacamp.com/community/tutorials/lstm-python-stock-market\n",
    "* https://www.kdnuggets.com/2018/11/keras-long-short-term-memory-lstm-model-predict-stock-prices.html\n",
    "\n",
    "Reference for how to build a multivariate time series forecasting with LSTM:\n",
    "* https://machinelearningmastery.com/multivariate-time-series-forecasting-lstms-keras/\n",
    "* https://www.analyticsvidhya.com/blog/2020/10/multivariate-multi-step-time-series-forecasting-using-stacked-lstm-sequence-to-sequence-autoencoder-in-tensorflow-2-0-keras/"
   ]
  },
  {
   "cell_type": "code",
   "execution_count": 6,
   "id": "young-conjunction",
   "metadata": {},
   "outputs": [
    {
     "name": "stdout",
     "output_type": "stream",
     "text": [
      "pandas: 1.2.3\n",
      "json: 2.0.9\n",
      "numpy: 1.19.5\n"
     ]
    }
   ],
   "source": [
    "# load required packages\n",
    "import pandas as pd\n",
    "import matplotlib.pyplot as plt\n",
    "from datetime import datetime\n",
    "import json\n",
    "import os\n",
    "import numpy as np\n",
    "\n",
    "print(f'pandas: {pd.__version__}')\n",
    "print(f'json: {json.__version__}')\n",
    "print(f'numpy: {np.__version__}')"
   ]
  },
  {
   "cell_type": "code",
   "execution_count": 11,
   "id": "eight-default",
   "metadata": {},
   "outputs": [
    {
     "name": "stdout",
     "output_type": "stream",
     "text": [
      "tensorflow: 2.4.1\n"
     ]
    }
   ],
   "source": [
    "# libraries for lstm model (with tensorflow)\n",
    "import tensorflow as tf\n",
    "from sklearn.preprocessing import MinMaxScaler\n",
    "\n",
    "print(f'tensorflow: {tf.__version__}')"
   ]
  },
  {
   "cell_type": "markdown",
   "id": "regulation-green",
   "metadata": {},
   "source": [
    "## Basic data preparation\n",
    "\n",
    "With this exercise, we will work with **hourly** ticker data for **ETHEUR**. The data was extracted from the Binance API (see the notebook \"hist_data_from_binance.ipynb\". For reasons of convenience, we will simply load the csv file generated through the other notebook.\n",
    "\n",
    "The data spans over more than 10,000 data points for a total time of a little more than a year: from 2020-01-03 to 2021-02-28. We have open, high, low, close, volume available for every hour of the days included in the dataset."
   ]
  },
  {
   "cell_type": "code",
   "execution_count": 13,
   "id": "drawn-mozambique",
   "metadata": {},
   "outputs": [
    {
     "name": "stdout",
     "output_type": "stream",
     "text": [
      "/home/siegstedt/projects/trading/binance/notebooks\n"
     ]
    }
   ],
   "source": [
    "!pwd"
   ]
  },
  {
   "cell_type": "code",
   "execution_count": 17,
   "id": "coral-championship",
   "metadata": {},
   "outputs": [
    {
     "name": "stdout",
     "output_type": "stream",
     "text": [
      "Loaded 10125 rows and 5 cols.\n"
     ]
    }
   ],
   "source": [
    "# read in the data\n",
    "filepath = '/home/siegstedt/projects/trading/binance/data/etheur_2020-01_2021-02_1h.csv'\n",
    "data = pd.read_csv(filepath, index_col=0, header=0).drop(columns=[\"datetime\"])\n",
    "data.index.name = \"datetime\"\n",
    "print(f\"Loaded {data.shape[0]} rows and {data.shape[1]} cols.\")"
   ]
  },
  {
   "cell_type": "code",
   "execution_count": 18,
   "id": "instrumental-explosion",
   "metadata": {},
   "outputs": [
    {
     "name": "stdout",
     "output_type": "stream",
     "text": [
      "                        open     high      low    close      volume\n",
      "datetime                                                           \n",
      "2020-01-03 09:00:00    113.8    115.4    113.8    115.4      1.1027\n",
      "2020-01-03 10:00:00   118.46   118.46   118.46   118.46         0.5\n",
      "2020-01-03 11:00:00   118.06   118.06   118.02   118.02     1.33288\n",
      "2020-01-03 12:00:00    118.4    118.4    118.4    118.4     0.08539\n",
      "2020-01-03 13:00:00    118.4    118.4    118.4    118.4         0.0\n",
      "...                      ...      ...      ...      ...         ...\n",
      "2021-02-28 19:00:00  1104.73   1128.1   1100.5  1121.05  2268.75758\n",
      "2021-02-28 20:00:00  1121.19  1159.63  1119.37   1156.0  2217.30903\n",
      "2021-02-28 21:00:00  1155.49   1175.4  1150.55   1170.4  2530.15172\n",
      "2021-02-28 22:00:00  1170.29  1183.28  1163.42   1175.0  2801.53662\n",
      "2021-02-28 23:00:00   1175.0  1180.97  1156.75  1179.39  1292.76135\n"
     ]
    }
   ],
   "source": [
    "# data inspection\n",
    "head = data.head(5)\n",
    "tail = data.tail(5)\n",
    "mid = pd.DataFrame({\"...\":[\"...\" for i in data.columns]}).transpose()\n",
    "mid.columns = data.columns\n",
    "preview = pd.concat([head, mid, tail])\n",
    "preview.index.name = data.index.name\n",
    "print(preview)"
   ]
  },
  {
   "cell_type": "code",
   "execution_count": 19,
   "id": "alone-court",
   "metadata": {
    "collapsed": true,
    "jupyter": {
     "outputs_hidden": true
    }
   },
   "outputs": [
    {
     "ename": "KeyboardInterrupt",
     "evalue": "",
     "output_type": "error",
     "traceback": [
      "\u001b[0;31m---------------------------------------------------------------------------\u001b[0m",
      "\u001b[0;31mKeyboardInterrupt\u001b[0m                         Traceback (most recent call last)",
      "\u001b[0;32m<ipython-input-19-aa1323fe3069>\u001b[0m in \u001b[0;36m<module>\u001b[0;34m\u001b[0m\n\u001b[1;32m      9\u001b[0m     \u001b[0mplt\u001b[0m\u001b[0;34m.\u001b[0m\u001b[0mtitle\u001b[0m\u001b[0;34m(\u001b[0m\u001b[0mgroup\u001b[0m\u001b[0;34m,\u001b[0m \u001b[0my\u001b[0m\u001b[0;34m=\u001b[0m\u001b[0;36m1\u001b[0m\u001b[0;34m,\u001b[0m \u001b[0mloc\u001b[0m\u001b[0;34m=\u001b[0m\u001b[0;34m'center'\u001b[0m\u001b[0;34m)\u001b[0m\u001b[0;34m\u001b[0m\u001b[0;34m\u001b[0m\u001b[0m\n\u001b[1;32m     10\u001b[0m     \u001b[0mi\u001b[0m \u001b[0;34m+=\u001b[0m \u001b[0;36m1\u001b[0m\u001b[0;34m\u001b[0m\u001b[0;34m\u001b[0m\u001b[0m\n\u001b[0;32m---> 11\u001b[0;31m \u001b[0mplt\u001b[0m\u001b[0;34m.\u001b[0m\u001b[0mshow\u001b[0m\u001b[0;34m(\u001b[0m\u001b[0;34m)\u001b[0m\u001b[0;34m\u001b[0m\u001b[0;34m\u001b[0m\u001b[0m\n\u001b[0m",
      "\u001b[0;32m~/Downloads/yes/envs/trading/lib/python3.8/site-packages/matplotlib/pyplot.py\u001b[0m in \u001b[0;36mshow\u001b[0;34m(*args, **kwargs)\u001b[0m\n\u001b[1;32m    352\u001b[0m     \"\"\"\n\u001b[1;32m    353\u001b[0m     \u001b[0m_warn_if_gui_out_of_main_thread\u001b[0m\u001b[0;34m(\u001b[0m\u001b[0;34m)\u001b[0m\u001b[0;34m\u001b[0m\u001b[0;34m\u001b[0m\u001b[0m\n\u001b[0;32m--> 354\u001b[0;31m     \u001b[0;32mreturn\u001b[0m \u001b[0m_backend_mod\u001b[0m\u001b[0;34m.\u001b[0m\u001b[0mshow\u001b[0m\u001b[0;34m(\u001b[0m\u001b[0;34m*\u001b[0m\u001b[0margs\u001b[0m\u001b[0;34m,\u001b[0m \u001b[0;34m**\u001b[0m\u001b[0mkwargs\u001b[0m\u001b[0;34m)\u001b[0m\u001b[0;34m\u001b[0m\u001b[0;34m\u001b[0m\u001b[0m\n\u001b[0m\u001b[1;32m    355\u001b[0m \u001b[0;34m\u001b[0m\u001b[0m\n\u001b[1;32m    356\u001b[0m \u001b[0;34m\u001b[0m\u001b[0m\n",
      "\u001b[0;32m~/Downloads/yes/envs/trading/lib/python3.8/site-packages/ipykernel/pylab/backend_inline.py\u001b[0m in \u001b[0;36mshow\u001b[0;34m(close, block)\u001b[0m\n\u001b[1;32m     41\u001b[0m             display(\n\u001b[1;32m     42\u001b[0m                 \u001b[0mfigure_manager\u001b[0m\u001b[0;34m.\u001b[0m\u001b[0mcanvas\u001b[0m\u001b[0;34m.\u001b[0m\u001b[0mfigure\u001b[0m\u001b[0;34m,\u001b[0m\u001b[0;34m\u001b[0m\u001b[0;34m\u001b[0m\u001b[0m\n\u001b[0;32m---> 43\u001b[0;31m                 \u001b[0mmetadata\u001b[0m\u001b[0;34m=\u001b[0m\u001b[0m_fetch_figure_metadata\u001b[0m\u001b[0;34m(\u001b[0m\u001b[0mfigure_manager\u001b[0m\u001b[0;34m.\u001b[0m\u001b[0mcanvas\u001b[0m\u001b[0;34m.\u001b[0m\u001b[0mfigure\u001b[0m\u001b[0;34m)\u001b[0m\u001b[0;34m\u001b[0m\u001b[0;34m\u001b[0m\u001b[0m\n\u001b[0m\u001b[1;32m     44\u001b[0m             )\n\u001b[1;32m     45\u001b[0m     \u001b[0;32mfinally\u001b[0m\u001b[0;34m:\u001b[0m\u001b[0;34m\u001b[0m\u001b[0;34m\u001b[0m\u001b[0m\n",
      "\u001b[0;32m~/Downloads/yes/envs/trading/lib/python3.8/site-packages/ipykernel/pylab/backend_inline.py\u001b[0m in \u001b[0;36m_fetch_figure_metadata\u001b[0;34m(fig)\u001b[0m\n\u001b[1;32m    178\u001b[0m     \u001b[0;32mif\u001b[0m \u001b[0m_is_transparent\u001b[0m\u001b[0;34m(\u001b[0m\u001b[0mfig\u001b[0m\u001b[0;34m.\u001b[0m\u001b[0mget_facecolor\u001b[0m\u001b[0;34m(\u001b[0m\u001b[0;34m)\u001b[0m\u001b[0;34m)\u001b[0m\u001b[0;34m:\u001b[0m\u001b[0;34m\u001b[0m\u001b[0;34m\u001b[0m\u001b[0m\n\u001b[1;32m    179\u001b[0m         \u001b[0;31m# the background is transparent\u001b[0m\u001b[0;34m\u001b[0m\u001b[0;34m\u001b[0m\u001b[0;34m\u001b[0m\u001b[0m\n\u001b[0;32m--> 180\u001b[0;31m         ticksLight = _is_light([label.get_color()\n\u001b[0m\u001b[1;32m    181\u001b[0m                                 \u001b[0;32mfor\u001b[0m \u001b[0maxes\u001b[0m \u001b[0;32min\u001b[0m \u001b[0mfig\u001b[0m\u001b[0;34m.\u001b[0m\u001b[0maxes\u001b[0m\u001b[0;34m\u001b[0m\u001b[0;34m\u001b[0m\u001b[0m\n\u001b[1;32m    182\u001b[0m                                 \u001b[0;32mfor\u001b[0m \u001b[0maxis\u001b[0m \u001b[0;32min\u001b[0m \u001b[0;34m(\u001b[0m\u001b[0maxes\u001b[0m\u001b[0;34m.\u001b[0m\u001b[0mxaxis\u001b[0m\u001b[0;34m,\u001b[0m \u001b[0maxes\u001b[0m\u001b[0;34m.\u001b[0m\u001b[0myaxis\u001b[0m\u001b[0;34m)\u001b[0m\u001b[0;34m\u001b[0m\u001b[0;34m\u001b[0m\u001b[0m\n",
      "\u001b[0;32m~/Downloads/yes/envs/trading/lib/python3.8/site-packages/ipykernel/pylab/backend_inline.py\u001b[0m in \u001b[0;36m<listcomp>\u001b[0;34m(.0)\u001b[0m\n\u001b[1;32m    181\u001b[0m                                 \u001b[0;32mfor\u001b[0m \u001b[0maxes\u001b[0m \u001b[0;32min\u001b[0m \u001b[0mfig\u001b[0m\u001b[0;34m.\u001b[0m\u001b[0maxes\u001b[0m\u001b[0;34m\u001b[0m\u001b[0;34m\u001b[0m\u001b[0m\n\u001b[1;32m    182\u001b[0m                                 \u001b[0;32mfor\u001b[0m \u001b[0maxis\u001b[0m \u001b[0;32min\u001b[0m \u001b[0;34m(\u001b[0m\u001b[0maxes\u001b[0m\u001b[0;34m.\u001b[0m\u001b[0mxaxis\u001b[0m\u001b[0;34m,\u001b[0m \u001b[0maxes\u001b[0m\u001b[0;34m.\u001b[0m\u001b[0myaxis\u001b[0m\u001b[0;34m)\u001b[0m\u001b[0;34m\u001b[0m\u001b[0;34m\u001b[0m\u001b[0m\n\u001b[0;32m--> 183\u001b[0;31m                                 for label in axis.get_ticklabels()])\n\u001b[0m\u001b[1;32m    184\u001b[0m         \u001b[0;32mif\u001b[0m \u001b[0mticksLight\u001b[0m\u001b[0;34m.\u001b[0m\u001b[0msize\u001b[0m \u001b[0;32mand\u001b[0m \u001b[0;34m(\u001b[0m\u001b[0mticksLight\u001b[0m \u001b[0;34m==\u001b[0m \u001b[0mticksLight\u001b[0m\u001b[0;34m[\u001b[0m\u001b[0;36m0\u001b[0m\u001b[0;34m]\u001b[0m\u001b[0;34m)\u001b[0m\u001b[0;34m.\u001b[0m\u001b[0mall\u001b[0m\u001b[0;34m(\u001b[0m\u001b[0;34m)\u001b[0m\u001b[0;34m:\u001b[0m\u001b[0;34m\u001b[0m\u001b[0;34m\u001b[0m\u001b[0m\n\u001b[1;32m    185\u001b[0m             \u001b[0;31m# there are one or more tick labels, all with the same lightness\u001b[0m\u001b[0;34m\u001b[0m\u001b[0;34m\u001b[0m\u001b[0;34m\u001b[0m\u001b[0m\n",
      "\u001b[0;32m~/Downloads/yes/envs/trading/lib/python3.8/site-packages/matplotlib/axis.py\u001b[0m in \u001b[0;36mget_ticklabels\u001b[0;34m(self, minor, which)\u001b[0m\n\u001b[1;32m   1219\u001b[0m         \u001b[0;32mif\u001b[0m \u001b[0mminor\u001b[0m\u001b[0;34m:\u001b[0m\u001b[0;34m\u001b[0m\u001b[0;34m\u001b[0m\u001b[0m\n\u001b[1;32m   1220\u001b[0m             \u001b[0;32mreturn\u001b[0m \u001b[0mself\u001b[0m\u001b[0;34m.\u001b[0m\u001b[0mget_minorticklabels\u001b[0m\u001b[0;34m(\u001b[0m\u001b[0;34m)\u001b[0m\u001b[0;34m\u001b[0m\u001b[0;34m\u001b[0m\u001b[0m\n\u001b[0;32m-> 1221\u001b[0;31m         \u001b[0;32mreturn\u001b[0m \u001b[0mself\u001b[0m\u001b[0;34m.\u001b[0m\u001b[0mget_majorticklabels\u001b[0m\u001b[0;34m(\u001b[0m\u001b[0;34m)\u001b[0m\u001b[0;34m\u001b[0m\u001b[0;34m\u001b[0m\u001b[0m\n\u001b[0m\u001b[1;32m   1222\u001b[0m \u001b[0;34m\u001b[0m\u001b[0m\n\u001b[1;32m   1223\u001b[0m     \u001b[0;32mdef\u001b[0m \u001b[0mget_majorticklines\u001b[0m\u001b[0;34m(\u001b[0m\u001b[0mself\u001b[0m\u001b[0;34m)\u001b[0m\u001b[0;34m:\u001b[0m\u001b[0;34m\u001b[0m\u001b[0;34m\u001b[0m\u001b[0m\n",
      "\u001b[0;32m~/Downloads/yes/envs/trading/lib/python3.8/site-packages/matplotlib/axis.py\u001b[0m in \u001b[0;36mget_majorticklabels\u001b[0;34m(self)\u001b[0m\n\u001b[1;32m   1171\u001b[0m     \u001b[0;32mdef\u001b[0m \u001b[0mget_majorticklabels\u001b[0m\u001b[0;34m(\u001b[0m\u001b[0mself\u001b[0m\u001b[0;34m)\u001b[0m\u001b[0;34m:\u001b[0m\u001b[0;34m\u001b[0m\u001b[0;34m\u001b[0m\u001b[0m\n\u001b[1;32m   1172\u001b[0m         \u001b[0;34m\"\"\"Return this Axis' major tick labels, as a list of `~.text.Text`.\"\"\"\u001b[0m\u001b[0;34m\u001b[0m\u001b[0;34m\u001b[0m\u001b[0m\n\u001b[0;32m-> 1173\u001b[0;31m         \u001b[0mticks\u001b[0m \u001b[0;34m=\u001b[0m \u001b[0mself\u001b[0m\u001b[0;34m.\u001b[0m\u001b[0mget_major_ticks\u001b[0m\u001b[0;34m(\u001b[0m\u001b[0;34m)\u001b[0m\u001b[0;34m\u001b[0m\u001b[0;34m\u001b[0m\u001b[0m\n\u001b[0m\u001b[1;32m   1174\u001b[0m         \u001b[0mlabels1\u001b[0m \u001b[0;34m=\u001b[0m \u001b[0;34m[\u001b[0m\u001b[0mtick\u001b[0m\u001b[0;34m.\u001b[0m\u001b[0mlabel1\u001b[0m \u001b[0;32mfor\u001b[0m \u001b[0mtick\u001b[0m \u001b[0;32min\u001b[0m \u001b[0mticks\u001b[0m \u001b[0;32mif\u001b[0m \u001b[0mtick\u001b[0m\u001b[0;34m.\u001b[0m\u001b[0mlabel1\u001b[0m\u001b[0;34m.\u001b[0m\u001b[0mget_visible\u001b[0m\u001b[0;34m(\u001b[0m\u001b[0;34m)\u001b[0m\u001b[0;34m]\u001b[0m\u001b[0;34m\u001b[0m\u001b[0;34m\u001b[0m\u001b[0m\n\u001b[1;32m   1175\u001b[0m         \u001b[0mlabels2\u001b[0m \u001b[0;34m=\u001b[0m \u001b[0;34m[\u001b[0m\u001b[0mtick\u001b[0m\u001b[0;34m.\u001b[0m\u001b[0mlabel2\u001b[0m \u001b[0;32mfor\u001b[0m \u001b[0mtick\u001b[0m \u001b[0;32min\u001b[0m \u001b[0mticks\u001b[0m \u001b[0;32mif\u001b[0m \u001b[0mtick\u001b[0m\u001b[0;34m.\u001b[0m\u001b[0mlabel2\u001b[0m\u001b[0;34m.\u001b[0m\u001b[0mget_visible\u001b[0m\u001b[0;34m(\u001b[0m\u001b[0;34m)\u001b[0m\u001b[0;34m]\u001b[0m\u001b[0;34m\u001b[0m\u001b[0;34m\u001b[0m\u001b[0m\n",
      "\u001b[0;32m~/Downloads/yes/envs/trading/lib/python3.8/site-packages/matplotlib/axis.py\u001b[0m in \u001b[0;36mget_major_ticks\u001b[0;34m(self, numticks)\u001b[0m\n\u001b[1;32m   1346\u001b[0m         \u001b[0;32mwhile\u001b[0m \u001b[0mlen\u001b[0m\u001b[0;34m(\u001b[0m\u001b[0mself\u001b[0m\u001b[0;34m.\u001b[0m\u001b[0mmajorTicks\u001b[0m\u001b[0;34m)\u001b[0m \u001b[0;34m<\u001b[0m \u001b[0mnumticks\u001b[0m\u001b[0;34m:\u001b[0m\u001b[0;34m\u001b[0m\u001b[0;34m\u001b[0m\u001b[0m\n\u001b[1;32m   1347\u001b[0m             \u001b[0;31m# Update the new tick label properties from the old.\u001b[0m\u001b[0;34m\u001b[0m\u001b[0;34m\u001b[0m\u001b[0;34m\u001b[0m\u001b[0m\n\u001b[0;32m-> 1348\u001b[0;31m             \u001b[0mtick\u001b[0m \u001b[0;34m=\u001b[0m \u001b[0mself\u001b[0m\u001b[0;34m.\u001b[0m\u001b[0m_get_tick\u001b[0m\u001b[0;34m(\u001b[0m\u001b[0mmajor\u001b[0m\u001b[0;34m=\u001b[0m\u001b[0;32mTrue\u001b[0m\u001b[0;34m)\u001b[0m\u001b[0;34m\u001b[0m\u001b[0;34m\u001b[0m\u001b[0m\n\u001b[0m\u001b[1;32m   1349\u001b[0m             \u001b[0mself\u001b[0m\u001b[0;34m.\u001b[0m\u001b[0mmajorTicks\u001b[0m\u001b[0;34m.\u001b[0m\u001b[0mappend\u001b[0m\u001b[0;34m(\u001b[0m\u001b[0mtick\u001b[0m\u001b[0;34m)\u001b[0m\u001b[0;34m\u001b[0m\u001b[0;34m\u001b[0m\u001b[0m\n\u001b[1;32m   1350\u001b[0m             \u001b[0mself\u001b[0m\u001b[0;34m.\u001b[0m\u001b[0m_copy_tick_props\u001b[0m\u001b[0;34m(\u001b[0m\u001b[0mself\u001b[0m\u001b[0;34m.\u001b[0m\u001b[0mmajorTicks\u001b[0m\u001b[0;34m[\u001b[0m\u001b[0;36m0\u001b[0m\u001b[0;34m]\u001b[0m\u001b[0;34m,\u001b[0m \u001b[0mtick\u001b[0m\u001b[0;34m)\u001b[0m\u001b[0;34m\u001b[0m\u001b[0;34m\u001b[0m\u001b[0m\n",
      "\u001b[0;32m~/Downloads/yes/envs/trading/lib/python3.8/site-packages/matplotlib/axis.py\u001b[0m in \u001b[0;36m_get_tick\u001b[0;34m(self, major)\u001b[0m\n\u001b[1;32m   2041\u001b[0m         \u001b[0;32melse\u001b[0m\u001b[0;34m:\u001b[0m\u001b[0;34m\u001b[0m\u001b[0;34m\u001b[0m\u001b[0m\n\u001b[1;32m   2042\u001b[0m             \u001b[0mtick_kw\u001b[0m \u001b[0;34m=\u001b[0m \u001b[0mself\u001b[0m\u001b[0;34m.\u001b[0m\u001b[0m_minor_tick_kw\u001b[0m\u001b[0;34m\u001b[0m\u001b[0;34m\u001b[0m\u001b[0m\n\u001b[0;32m-> 2043\u001b[0;31m         \u001b[0;32mreturn\u001b[0m \u001b[0mXTick\u001b[0m\u001b[0;34m(\u001b[0m\u001b[0mself\u001b[0m\u001b[0;34m.\u001b[0m\u001b[0maxes\u001b[0m\u001b[0;34m,\u001b[0m \u001b[0;36m0\u001b[0m\u001b[0;34m,\u001b[0m \u001b[0mmajor\u001b[0m\u001b[0;34m=\u001b[0m\u001b[0mmajor\u001b[0m\u001b[0;34m,\u001b[0m \u001b[0;34m**\u001b[0m\u001b[0mtick_kw\u001b[0m\u001b[0;34m)\u001b[0m\u001b[0;34m\u001b[0m\u001b[0;34m\u001b[0m\u001b[0m\n\u001b[0m\u001b[1;32m   2044\u001b[0m \u001b[0;34m\u001b[0m\u001b[0m\n\u001b[1;32m   2045\u001b[0m     \u001b[0;32mdef\u001b[0m \u001b[0mset_label_position\u001b[0m\u001b[0;34m(\u001b[0m\u001b[0mself\u001b[0m\u001b[0;34m,\u001b[0m \u001b[0mposition\u001b[0m\u001b[0;34m)\u001b[0m\u001b[0;34m:\u001b[0m\u001b[0;34m\u001b[0m\u001b[0;34m\u001b[0m\u001b[0m\n",
      "\u001b[0;32m~/Downloads/yes/envs/trading/lib/python3.8/site-packages/matplotlib/axis.py\u001b[0m in \u001b[0;36m__init__\u001b[0;34m(self, *args, **kwargs)\u001b[0m\n\u001b[1;32m    441\u001b[0m         )\n\u001b[1;32m    442\u001b[0m         \u001b[0mtrans\u001b[0m\u001b[0;34m,\u001b[0m \u001b[0mva\u001b[0m\u001b[0;34m,\u001b[0m \u001b[0mha\u001b[0m \u001b[0;34m=\u001b[0m \u001b[0mself\u001b[0m\u001b[0;34m.\u001b[0m\u001b[0m_get_text2_transform\u001b[0m\u001b[0;34m(\u001b[0m\u001b[0;34m)\u001b[0m\u001b[0;34m\u001b[0m\u001b[0;34m\u001b[0m\u001b[0m\n\u001b[0;32m--> 443\u001b[0;31m         self.label2.set(\n\u001b[0m\u001b[1;32m    444\u001b[0m             \u001b[0mx\u001b[0m\u001b[0;34m=\u001b[0m\u001b[0;36m0\u001b[0m\u001b[0;34m,\u001b[0m \u001b[0my\u001b[0m\u001b[0;34m=\u001b[0m\u001b[0;36m1\u001b[0m\u001b[0;34m,\u001b[0m\u001b[0;34m\u001b[0m\u001b[0;34m\u001b[0m\u001b[0m\n\u001b[1;32m    445\u001b[0m             \u001b[0mverticalalignment\u001b[0m\u001b[0;34m=\u001b[0m\u001b[0mva\u001b[0m\u001b[0;34m,\u001b[0m \u001b[0mhorizontalalignment\u001b[0m\u001b[0;34m=\u001b[0m\u001b[0mha\u001b[0m\u001b[0;34m,\u001b[0m \u001b[0mtransform\u001b[0m\u001b[0;34m=\u001b[0m\u001b[0mtrans\u001b[0m\u001b[0;34m,\u001b[0m\u001b[0;34m\u001b[0m\u001b[0;34m\u001b[0m\u001b[0m\n",
      "\u001b[0;32m~/Downloads/yes/envs/trading/lib/python3.8/site-packages/matplotlib/artist.py\u001b[0m in \u001b[0;36mset\u001b[0;34m(self, **kwargs)\u001b[0m\n\u001b[1;32m   1177\u001b[0m         \u001b[0;32mif\u001b[0m \u001b[0mmove_color_to_start\u001b[0m\u001b[0;34m:\u001b[0m\u001b[0;34m\u001b[0m\u001b[0;34m\u001b[0m\u001b[0m\n\u001b[1;32m   1178\u001b[0m             \u001b[0mkwargs\u001b[0m \u001b[0;34m=\u001b[0m \u001b[0;34m{\u001b[0m\u001b[0;34m\"color\"\u001b[0m\u001b[0;34m:\u001b[0m \u001b[0mkwargs\u001b[0m\u001b[0;34m.\u001b[0m\u001b[0mpop\u001b[0m\u001b[0;34m(\u001b[0m\u001b[0;34m\"color\"\u001b[0m\u001b[0;34m)\u001b[0m\u001b[0;34m,\u001b[0m \u001b[0;34m**\u001b[0m\u001b[0mkwargs\u001b[0m\u001b[0;34m}\u001b[0m\u001b[0;34m\u001b[0m\u001b[0;34m\u001b[0m\u001b[0m\n\u001b[0;32m-> 1179\u001b[0;31m         \u001b[0;32mreturn\u001b[0m \u001b[0mself\u001b[0m\u001b[0;34m.\u001b[0m\u001b[0mupdate\u001b[0m\u001b[0;34m(\u001b[0m\u001b[0mkwargs\u001b[0m\u001b[0;34m)\u001b[0m\u001b[0;34m\u001b[0m\u001b[0;34m\u001b[0m\u001b[0m\n\u001b[0m\u001b[1;32m   1180\u001b[0m \u001b[0;34m\u001b[0m\u001b[0m\n\u001b[1;32m   1181\u001b[0m     \u001b[0;32mdef\u001b[0m \u001b[0mfindobj\u001b[0m\u001b[0;34m(\u001b[0m\u001b[0mself\u001b[0m\u001b[0;34m,\u001b[0m \u001b[0mmatch\u001b[0m\u001b[0;34m=\u001b[0m\u001b[0;32mNone\u001b[0m\u001b[0;34m,\u001b[0m \u001b[0minclude_self\u001b[0m\u001b[0;34m=\u001b[0m\u001b[0;32mTrue\u001b[0m\u001b[0;34m)\u001b[0m\u001b[0;34m:\u001b[0m\u001b[0;34m\u001b[0m\u001b[0;34m\u001b[0m\u001b[0m\n",
      "\u001b[0;32m~/Downloads/yes/envs/trading/lib/python3.8/site-packages/matplotlib/text.py\u001b[0m in \u001b[0;36mupdate\u001b[0;34m(self, kwargs)\u001b[0m\n\u001b[1;32m    182\u001b[0m         \u001b[0;31m# Update bbox last, as it depends on font properties.\u001b[0m\u001b[0;34m\u001b[0m\u001b[0;34m\u001b[0m\u001b[0;34m\u001b[0m\u001b[0m\n\u001b[1;32m    183\u001b[0m         \u001b[0mbbox\u001b[0m \u001b[0;34m=\u001b[0m \u001b[0mkwargs\u001b[0m\u001b[0;34m.\u001b[0m\u001b[0mpop\u001b[0m\u001b[0;34m(\u001b[0m\u001b[0;34m\"bbox\"\u001b[0m\u001b[0;34m,\u001b[0m \u001b[0msentinel\u001b[0m\u001b[0;34m)\u001b[0m\u001b[0;34m\u001b[0m\u001b[0;34m\u001b[0m\u001b[0m\n\u001b[0;32m--> 184\u001b[0;31m         \u001b[0msuper\u001b[0m\u001b[0;34m(\u001b[0m\u001b[0;34m)\u001b[0m\u001b[0;34m.\u001b[0m\u001b[0mupdate\u001b[0m\u001b[0;34m(\u001b[0m\u001b[0mkwargs\u001b[0m\u001b[0;34m)\u001b[0m\u001b[0;34m\u001b[0m\u001b[0;34m\u001b[0m\u001b[0m\n\u001b[0m\u001b[1;32m    185\u001b[0m         \u001b[0;32mif\u001b[0m \u001b[0mbbox\u001b[0m \u001b[0;32mis\u001b[0m \u001b[0;32mnot\u001b[0m \u001b[0msentinel\u001b[0m\u001b[0;34m:\u001b[0m\u001b[0;34m\u001b[0m\u001b[0;34m\u001b[0m\u001b[0m\n\u001b[1;32m    186\u001b[0m             \u001b[0mself\u001b[0m\u001b[0;34m.\u001b[0m\u001b[0mset_bbox\u001b[0m\u001b[0;34m(\u001b[0m\u001b[0mbbox\u001b[0m\u001b[0;34m)\u001b[0m\u001b[0;34m\u001b[0m\u001b[0;34m\u001b[0m\u001b[0m\n",
      "\u001b[0;32m~/Downloads/yes/envs/trading/lib/python3.8/site-packages/matplotlib/artist.py\u001b[0m in \u001b[0;36mupdate\u001b[0;34m(self, props)\u001b[0m\n\u001b[1;32m   1047\u001b[0m         \u001b[0;32mwith\u001b[0m \u001b[0mcbook\u001b[0m\u001b[0;34m.\u001b[0m\u001b[0m_setattr_cm\u001b[0m\u001b[0;34m(\u001b[0m\u001b[0mself\u001b[0m\u001b[0;34m,\u001b[0m \u001b[0meventson\u001b[0m\u001b[0;34m=\u001b[0m\u001b[0;32mFalse\u001b[0m\u001b[0;34m)\u001b[0m\u001b[0;34m:\u001b[0m\u001b[0;34m\u001b[0m\u001b[0;34m\u001b[0m\u001b[0m\n\u001b[1;32m   1048\u001b[0m             \u001b[0;32mfor\u001b[0m \u001b[0mk\u001b[0m\u001b[0;34m,\u001b[0m \u001b[0mv\u001b[0m \u001b[0;32min\u001b[0m \u001b[0mprops\u001b[0m\u001b[0;34m.\u001b[0m\u001b[0mitems\u001b[0m\u001b[0;34m(\u001b[0m\u001b[0;34m)\u001b[0m\u001b[0;34m:\u001b[0m\u001b[0;34m\u001b[0m\u001b[0;34m\u001b[0m\u001b[0m\n\u001b[0;32m-> 1049\u001b[0;31m                 \u001b[0;32mif\u001b[0m \u001b[0mk\u001b[0m \u001b[0;34m!=\u001b[0m \u001b[0mk\u001b[0m\u001b[0;34m.\u001b[0m\u001b[0mlower\u001b[0m\u001b[0;34m(\u001b[0m\u001b[0;34m)\u001b[0m\u001b[0;34m:\u001b[0m\u001b[0;34m\u001b[0m\u001b[0;34m\u001b[0m\u001b[0m\n\u001b[0m\u001b[1;32m   1050\u001b[0m                     _api.warn_deprecated(\n\u001b[1;32m   1051\u001b[0m                         \u001b[0;34m\"3.3\"\u001b[0m\u001b[0;34m,\u001b[0m \u001b[0mmessage\u001b[0m\u001b[0;34m=\u001b[0m\u001b[0;34m\"Case-insensitive properties were \"\u001b[0m\u001b[0;34m\u001b[0m\u001b[0;34m\u001b[0m\u001b[0m\n",
      "\u001b[0;31mKeyboardInterrupt\u001b[0m: "
     ]
    }
   ],
   "source": [
    "# specify columns to plot\n",
    "groups = [\"open\",\"high\",\"low\",\"close\",\"volume\"]\n",
    "i = 1\n",
    "# plot each column\n",
    "plt.figure(figsize=(20,10))\n",
    "for group in groups:\n",
    "    plt.subplot(len(groups), 1, i)\n",
    "    plt.plot(data.loc[:, group])\n",
    "    plt.title(group, y=1, loc='center')\n",
    "    i += 1\n",
    "plt.show()"
   ]
  },
  {
   "cell_type": "markdown",
   "id": "handmade-potential",
   "metadata": {},
   "source": [
    "### LSTM Data Preparation\n",
    "\n",
    "The first step is to prepare the pollution dataset for the LSTM.\n",
    "\n",
    "This involves framing the dataset as a supervised learning problem and normalizing the input variables."
   ]
  },
  {
   "cell_type": "markdown",
   "id": "ranging-hollywood",
   "metadata": {},
   "source": [
    "We will frame the supervised learning problem as **predicting the closing price at the current hour (t)** given the market conditions (e.g. open, high, low, volume) at the prior time step."
   ]
  },
  {
   "cell_type": "markdown",
   "id": "western-freeze",
   "metadata": {},
   "source": [
    "Some alternate formulations you could explore include:\n",
    "\n",
    "- Predict the closing price for the next hour based on the market conditions over the last 24 hours.\n",
    "- Predict the closing price for the next hour as above and given the “expected” market conditions for the next hour."
   ]
  },
  {
   "cell_type": "markdown",
   "id": "altered-corporation",
   "metadata": {},
   "source": [
    "#### Convert multivariate \n",
    "\n",
    "We can transform the dataset using the series_to_supervised() function.\n",
    "\n",
    "First, the “pollution.csv” dataset is loaded. The wind direction feature is label encoded (integer encoded). This could further be one-hot encoded in the future if you are interested in exploring it.\n",
    "\n",
    "Next, all features are normalized, then the dataset is transformed into a supervised learning problem. The weather variables for the hour to be predicted (t) are then removed.\n",
    "\n",
    "Reference:\n",
    "https://machinelearningmastery.com/convert-time-series-supervised-learning-problem-python/"
   ]
  },
  {
   "cell_type": "code",
   "execution_count": 21,
   "id": "polar-printer",
   "metadata": {},
   "outputs": [],
   "source": [
    "# convert series to supervised learning\n",
    "def series_to_supervised(data, n_in=1, n_out=1, dropnan=True):\n",
    "    n_vars = 1 if type(data) is list else data.shape[1]\n",
    "    df = pd.DataFrame(data)\n",
    "    cols, names = list(), list()\n",
    "    # input sequence (t-n, ... t-1)\n",
    "    for i in range(n_in, 0, -1):\n",
    "        cols.append(df.shift(i))\n",
    "        names += [('var%d(t-%d)' % (j+1, i)) for j in range(n_vars)]\n",
    "    # forecast sequence (t, t+1, ... t+n)\n",
    "    for i in range(0, n_out):\n",
    "        cols.append(df.shift(-i))\n",
    "        if i == 0:\n",
    "            names += [('var%d(t)' % (j+1)) for j in range(n_vars)]\n",
    "        else:\n",
    "            names += [('var%d(t+%d)' % (j+1, i)) for j in range(n_vars)]\n",
    "    # put it all together\n",
    "    agg = pd.concat(cols, axis=1)\n",
    "    agg.columns = names\n",
    "    # drop rows with NaN values\n",
    "    if dropnan:\n",
    "        agg.dropna(inplace=True)\n",
    "    return agg\n"
   ]
  },
  {
   "cell_type": "code",
   "execution_count": 22,
   "id": "moved-binding",
   "metadata": {},
   "outputs": [
    {
     "name": "stdout",
     "output_type": "stream",
     "text": [
      "   var1(t-1)  var2(t-1)  var3(t-1)  var4(t-1)  var5(t-1)   var4(t)\n",
      "1   0.016525   0.013103   0.022112   0.016970   0.000058  0.018900\n",
      "2   0.019463   0.015033   0.025041   0.018900   0.000026  0.018622\n",
      "3   0.019211   0.014780   0.024765   0.018622   0.000070  0.018862\n",
      "4   0.019425   0.014995   0.025003   0.018862   0.000004  0.018862\n",
      "5   0.019425   0.014995   0.025003   0.018862   0.000000  0.018862\n"
     ]
    }
   ],
   "source": [
    "values = data.values\n",
    "# ensure that all values are floats\n",
    "values = values.astype('float64')\n",
    "# normalize features\n",
    "scaler = MinMaxScaler(feature_range=(0, 1))\n",
    "scaled = scaler.fit_transform(values)\n",
    "# frame as supervised learning\n",
    "reframed = series_to_supervised(scaled, 1, 1)\n",
    "# drop columns we don't want to predict\n",
    "reframed = reframed.drop(columns=['var1(t)','var2(t)','var3(t)','var5(t)',])\n",
    "print(reframed.head(5))"
   ]
  },
  {
   "cell_type": "markdown",
   "id": "rolled-language",
   "metadata": {},
   "source": [
    "Running the example prints the first 5 rows of the transformed dataset. We can see the 5 input variables (input series) and the 1 output variable (close price at the current hour)."
   ]
  },
  {
   "cell_type": "markdown",
   "id": "amateur-cylinder",
   "metadata": {},
   "source": [
    "This data preparation is simple and there is more we could explore. Some ideas you could look at include:\n",
    "\n",
    "- Making all series stationary with differencing and seasonal adjustment.\n",
    "- Providing more than 1 hour of input time steps.\n",
    "\n",
    "This last point is perhaps the most important given the use of Backpropagation through time by LSTMs when learning sequence prediction problems."
   ]
  },
  {
   "cell_type": "markdown",
   "id": "color-turner",
   "metadata": {},
   "source": [
    "### Train test split\n",
    "\n",
    "First, we must split the prepared dataset into train and test sets. To speed up the training of the model for this demonstration, we will only fit the model on the first half year of data, then evaluate it on the remaining half years of data. If you have time, consider exploring the inverted version of this test harness.\n",
    "\n",
    "The example below splits the dataset into train and test sets, then splits the train and test sets into input and output variables. Finally, the inputs (X) are reshaped into the 3D format expected by LSTMs, namely [samples, timesteps, features]."
   ]
  },
  {
   "cell_type": "code",
   "execution_count": 23,
   "id": "recent-costs",
   "metadata": {},
   "outputs": [
    {
     "name": "stdout",
     "output_type": "stream",
     "text": [
      "(4320, 1, 5) (4320,) (5804, 1, 5) (5804,)\n"
     ]
    }
   ],
   "source": [
    "# split into train and test sets\n",
    "values = reframed.values\n",
    "n_train_hours = 180 * 24\n",
    "train = values[:n_train_hours, :]\n",
    "test = values[n_train_hours:, :]\n",
    "# split into input and outputs\n",
    "train_X, train_y = train[:, :-1], train[:, -1]\n",
    "test_X, test_y = test[:, :-1], test[:, -1]\n",
    "# reshape input to be 3D [samples, timesteps, features]\n",
    "train_X = train_X.reshape((train_X.shape[0], 1, train_X.shape[1]))\n",
    "test_X = test_X.reshape((test_X.shape[0], 1, test_X.shape[1]))\n",
    "print(train_X.shape, train_y.shape, test_X.shape, test_y.shape)"
   ]
  },
  {
   "cell_type": "markdown",
   "id": "answering-coach",
   "metadata": {},
   "source": [
    "### Define and fit the model\n",
    "\n",
    "Now we can define and fit our LSTM model.\n",
    "\n",
    "We will define the LSTM with 50 neurons in the first hidden layer and 1 neuron in the output layer for predicting pollution. The input shape will be 1 time step with 8 features.\n",
    "\n",
    "We will use the Mean Absolute Error (MAE) loss function and the efficient Adam version of stochastic gradient descent.\n",
    "\n",
    "The model will be fit for 50 training epochs with a batch size of 72. Remember that the internal state of the LSTM in Keras is reset at the end of each batch, so an internal state that is a function of a number of days may be helpful (try testing this).\n",
    "\n",
    "Finally, we keep track of both the training and test loss during training by setting the validation_data argument in the fit() function. At the end of the run both the training and test loss are plotted."
   ]
  },
  {
   "cell_type": "code",
   "execution_count": 24,
   "id": "sweet-giving",
   "metadata": {},
   "outputs": [],
   "source": [
    "from tensorflow.keras.models import Sequential\n",
    "from tensorflow.keras.layers import Dense\n",
    "from tensorflow.keras.layers import LSTM\n",
    "from tensorflow.python.framework import ops"
   ]
  },
  {
   "cell_type": "code",
   "execution_count": 25,
   "id": "expensive-collaboration",
   "metadata": {
    "collapsed": true,
    "jupyter": {
     "outputs_hidden": true
    }
   },
   "outputs": [
    {
     "name": "stdout",
     "output_type": "stream",
     "text": [
      "Epoch 1/50\n",
      "60/60 - 1s - loss: 0.0199 - val_loss: 0.1425\n",
      "Epoch 2/50\n",
      "60/60 - 0s - loss: 0.0176 - val_loss: 0.1066\n",
      "Epoch 3/50\n",
      "60/60 - 0s - loss: 0.0149 - val_loss: 0.0845\n",
      "Epoch 4/50\n",
      "60/60 - 0s - loss: 0.0116 - val_loss: 0.0717\n",
      "Epoch 5/50\n",
      "60/60 - 0s - loss: 0.0101 - val_loss: 0.0455\n",
      "Epoch 6/50\n",
      "60/60 - 0s - loss: 0.0072 - val_loss: 0.0282\n",
      "Epoch 7/50\n",
      "60/60 - 0s - loss: 0.0048 - val_loss: 0.0100\n",
      "Epoch 8/50\n",
      "60/60 - 0s - loss: 0.0023 - val_loss: 0.0286\n",
      "Epoch 9/50\n",
      "60/60 - 0s - loss: 0.0050 - val_loss: 0.0153\n",
      "Epoch 10/50\n",
      "60/60 - 0s - loss: 0.0036 - val_loss: 0.0214\n",
      "Epoch 11/50\n",
      "60/60 - 0s - loss: 0.0044 - val_loss: 0.0149\n",
      "Epoch 12/50\n",
      "60/60 - 0s - loss: 0.0035 - val_loss: 0.0200\n",
      "Epoch 13/50\n",
      "60/60 - 0s - loss: 0.0044 - val_loss: 0.0108\n",
      "Epoch 14/50\n",
      "60/60 - 0s - loss: 0.0028 - val_loss: 0.0272\n",
      "Epoch 15/50\n",
      "60/60 - 0s - loss: 0.0048 - val_loss: 0.0143\n",
      "Epoch 16/50\n",
      "60/60 - 0s - loss: 0.0030 - val_loss: 0.0247\n",
      "Epoch 17/50\n",
      "60/60 - 0s - loss: 0.0045 - val_loss: 0.0093\n",
      "Epoch 18/50\n",
      "60/60 - 0s - loss: 0.0016 - val_loss: 0.0243\n",
      "Epoch 19/50\n",
      "60/60 - 0s - loss: 0.0035 - val_loss: 0.0192\n",
      "Epoch 20/50\n",
      "60/60 - 0s - loss: 0.0037 - val_loss: 0.0237\n",
      "Epoch 21/50\n",
      "60/60 - 0s - loss: 0.0038 - val_loss: 0.0235\n",
      "Epoch 22/50\n",
      "60/60 - 0s - loss: 0.0037 - val_loss: 0.0244\n",
      "Epoch 23/50\n",
      "60/60 - 0s - loss: 0.0037 - val_loss: 0.0246\n",
      "Epoch 24/50\n",
      "60/60 - 0s - loss: 0.0037 - val_loss: 0.0244\n",
      "Epoch 25/50\n",
      "60/60 - 0s - loss: 0.0035 - val_loss: 0.0265\n",
      "Epoch 26/50\n",
      "60/60 - 0s - loss: 0.0036 - val_loss: 0.0268\n",
      "Epoch 27/50\n",
      "60/60 - 0s - loss: 0.0035 - val_loss: 0.0265\n",
      "Epoch 28/50\n",
      "60/60 - 0s - loss: 0.0034 - val_loss: 0.0292\n",
      "Epoch 29/50\n",
      "60/60 - 0s - loss: 0.0036 - val_loss: 0.0282\n",
      "Epoch 30/50\n",
      "60/60 - 0s - loss: 0.0034 - val_loss: 0.0282\n",
      "Epoch 31/50\n",
      "60/60 - 0s - loss: 0.0033 - val_loss: 0.0314\n",
      "Epoch 32/50\n",
      "60/60 - 0s - loss: 0.0035 - val_loss: 0.0305\n",
      "Epoch 33/50\n",
      "60/60 - 0s - loss: 0.0034 - val_loss: 0.0299\n",
      "Epoch 34/50\n",
      "60/60 - 0s - loss: 0.0032 - val_loss: 0.0330\n",
      "Epoch 35/50\n",
      "60/60 - 0s - loss: 0.0035 - val_loss: 0.0315\n",
      "Epoch 36/50\n",
      "60/60 - 0s - loss: 0.0032 - val_loss: 0.0319\n",
      "Epoch 37/50\n",
      "60/60 - 0s - loss: 0.0034 - val_loss: 0.0328\n",
      "Epoch 38/50\n",
      "60/60 - 0s - loss: 0.0033 - val_loss: 0.0340\n",
      "Epoch 39/50\n",
      "60/60 - 0s - loss: 0.0033 - val_loss: 0.0345\n",
      "Epoch 40/50\n",
      "60/60 - 0s - loss: 0.0033 - val_loss: 0.0343\n",
      "Epoch 41/50\n",
      "60/60 - 0s - loss: 0.0032 - val_loss: 0.0367\n",
      "Epoch 42/50\n",
      "60/60 - 0s - loss: 0.0033 - val_loss: 0.0356\n",
      "Epoch 43/50\n",
      "60/60 - 0s - loss: 0.0032 - val_loss: 0.0354\n",
      "Epoch 44/50\n",
      "60/60 - 0s - loss: 0.0031 - val_loss: 0.0374\n",
      "Epoch 45/50\n",
      "60/60 - 0s - loss: 0.0033 - val_loss: 0.0371\n",
      "Epoch 46/50\n",
      "60/60 - 0s - loss: 0.0031 - val_loss: 0.0388\n",
      "Epoch 47/50\n",
      "60/60 - 0s - loss: 0.0032 - val_loss: 0.0388\n",
      "Epoch 48/50\n",
      "60/60 - 0s - loss: 0.0031 - val_loss: 0.0403\n",
      "Epoch 49/50\n",
      "60/60 - 0s - loss: 0.0032 - val_loss: 0.0395\n",
      "Epoch 50/50\n",
      "60/60 - 0s - loss: 0.0031 - val_loss: 0.0409\n"
     ]
    }
   ],
   "source": [
    "# design network\n",
    "model = Sequential()\n",
    "model.add(LSTM(50, input_shape=(train_X.shape[1], train_X.shape[2])))\n",
    "model.add(Dense(1))\n",
    "model.compile(loss='mae', optimizer='adam')\n",
    "# fit network\n",
    "history = model.fit(train_X, train_y, epochs=50, batch_size=72, validation_data=(test_X, test_y), verbose=2, shuffle=False)"
   ]
  },
  {
   "cell_type": "code",
   "execution_count": 26,
   "id": "pacific-medicine",
   "metadata": {},
   "outputs": [
    {
     "data": {
      "image/png": "[encoded data removed]",
      "text/plain": [
       "<Figure size 432x288 with 1 Axes>"
      ]
     },
     "metadata": {
      "needs_background": "light"
     },
     "output_type": "display_data"
    }
   ],
   "source": [
    "# plot history\n",
    "plt.plot(history.history['loss'], label='train')\n",
    "plt.plot(history.history['val_loss'], label='test')\n",
    "plt.legend()\n",
    "plt.show()"
   ]
  },
  {
   "cell_type": "markdown",
   "id": "occupational-annex",
   "metadata": {},
   "source": [
    "### Evaluate the model\n",
    "\n",
    "After the model is fit, we can forecast for the entire test dataset.\n",
    "\n",
    "We combine the forecast with the test dataset and invert the scaling. We also invert scaling on the test dataset with the expected pollution numbers.\n",
    "\n",
    "With forecasts and actual values in their original scale, we can then calculate an error score for the model. In this case, we calculate the Root Mean Squared Error (RMSE) that gives error in the same units as the variable itself."
   ]
  },
  {
   "cell_type": "code",
   "execution_count": 27,
   "id": "muslim-sustainability",
   "metadata": {},
   "outputs": [],
   "source": [
    "from sklearn.metrics import mean_squared_error\n",
    "from math import sqrt"
   ]
  },
  {
   "cell_type": "code",
   "execution_count": 28,
   "id": "attended-helping",
   "metadata": {},
   "outputs": [
    {
     "data": {
      "text/plain": [
       "(5804, 1, 5)"
      ]
     },
     "execution_count": 28,
     "metadata": {},
     "output_type": "execute_result"
    }
   ],
   "source": [
    "test_X.shape"
   ]
  },
  {
   "cell_type": "code",
   "execution_count": 29,
   "id": "operating-cyprus",
   "metadata": {},
   "outputs": [
    {
     "name": "stdout",
     "output_type": "stream",
     "text": [
      "Test RMSE: 108.543\n"
     ]
    }
   ],
   "source": [
    "# make a prediction\n",
    "yhat = model.predict(test_X)\n",
    "test_X = test_X.reshape((test_X.shape[0], test_X.shape[2]))\n",
    "# invert scaling for forecast\n",
    "inv_yhat = np.concatenate((yhat, test_X[:, 1:]), axis=1)\n",
    "inv_yhat = scaler.inverse_transform(inv_yhat)\n",
    "inv_yhat = inv_yhat[:,0]\n",
    "# invert scaling for actual\n",
    "test_y = test_y.reshape((len(test_y), 1))\n",
    "inv_y = np.concatenate((test_y, test_X[:, 1:]), axis=1)\n",
    "inv_y = scaler.inverse_transform(inv_y)\n",
    "inv_y = inv_y[:,0]\n",
    "# calculate RMSE\n",
    "rmse = sqrt(mean_squared_error(inv_y, inv_yhat))\n",
    "print('Test RMSE: %.3f' % rmse)"
   ]
  },
  {
   "cell_type": "markdown",
   "id": "allied-piano",
   "metadata": {},
   "source": [
    "## Train On Multiple Lag Timesteps\n",
    "\n",
    "The changes needed to train the model on multiple previous time steps are quite minimal, as follows:\n",
    "\n",
    "First, we read the data and prepare it as known."
   ]
  },
  {
   "cell_type": "code",
   "execution_count": 13,
   "id": "compound-credit",
   "metadata": {},
   "outputs": [],
   "source": [
    "from math import sqrt\n",
    "from matplotlib import pyplot\n",
    "import pandas as pd\n",
    "import numpy as np\n",
    "from sklearn.preprocessing import MinMaxScaler\n",
    "from sklearn.preprocessing import LabelEncoder\n",
    "from sklearn.metrics import mean_squared_error\n",
    "from tensorflow.keras.models import Sequential\n",
    "from tensorflow.keras.layers import Dense\n",
    "from tensorflow.keras.layers import LSTM"
   ]
  },
  {
   "cell_type": "code",
   "execution_count": 20,
   "id": "sought-display",
   "metadata": {},
   "outputs": [],
   "source": [
    "# convert series to supervised learning\n",
    "def series_to_supervised(data, n_in=1, n_out=1, dropnan=True):\n",
    "    n_vars = 1 if type(data) is list else data.shape[1]\n",
    "    df = pd.DataFrame(data)\n",
    "    cols, names = list(), list()\n",
    "    # input sequence (t-n, ... t-1)\n",
    "    for i in range(n_in, 0, -1):\n",
    "        cols.append(df.shift(i))\n",
    "        names += [('var%d(t-%d)' % (j+1, i)) for j in range(n_vars)]\n",
    "    # forecast sequence (t, t+1, ... t+n)\n",
    "    for i in range(0, n_out):\n",
    "        cols.append(df.shift(-i))\n",
    "        if i == 0:\n",
    "            names += [('var%d(t)' % (j+1)) for j in range(n_vars)]\n",
    "        else:\n",
    "            names += [('var%d(t+%d)' % (j+1, i)) for j in range(n_vars)]\n",
    "    # put it all together\n",
    "    agg = pd.concat(cols, axis=1)\n",
    "    agg.columns = names\n",
    "    # drop rows with NaN values\n",
    "    if dropnan:\n",
    "        agg.dropna(inplace=True)\n",
    "    return agg"
   ]
  },
  {
   "cell_type": "code",
   "execution_count": 52,
   "id": "closing-hollow",
   "metadata": {},
   "outputs": [
    {
     "data": {
      "text/plain": [
       "'/home/siegstedt/binance/data/etheur_2021-01.csv'"
      ]
     },
     "execution_count": 52,
     "metadata": {},
     "output_type": "execute_result"
    }
   ],
   "source": [
    "os.path.join('/home/siegstedt','binance','data','etheur_2021-01.csv')"
   ]
  },
  {
   "cell_type": "code",
   "execution_count": 14,
   "id": "formed-export",
   "metadata": {},
   "outputs": [],
   "source": [
    "# read in the data\n",
    "filepath = '/home/siegstedt/projects/trading/binance/data/etheur_2020-01_2021-02_1h.csv'\n",
    "data = pd.read_csv(filepath, index_col=0, header=0).drop(columns=[\"datetime\"])\n",
    "data.index.name = \"datetime\"\n",
    "# reorder columns for having closed price accessible at the end of the data frame\n",
    "data = data[['close','open','high','low','volume']]"
   ]
  },
  {
   "cell_type": "code",
   "execution_count": 15,
   "id": "prescription-inside",
   "metadata": {},
   "outputs": [
    {
     "name": "stdout",
     "output_type": "stream",
     "text": [
      "                       close     open     high      low      volume\n",
      "datetime                                                           \n",
      "2020-01-03 09:00:00    115.4    113.8    115.4    113.8      1.1027\n",
      "2020-01-03 10:00:00   118.46   118.46   118.46   118.46         0.5\n",
      "2020-01-03 11:00:00   118.02   118.06   118.06   118.02     1.33288\n",
      "2020-01-03 12:00:00    118.4    118.4    118.4    118.4     0.08539\n",
      "2020-01-03 13:00:00    118.4    118.4    118.4    118.4         0.0\n",
      "...                      ...      ...      ...      ...         ...\n",
      "2021-02-28 19:00:00  1121.05  1104.73   1128.1   1100.5  2268.75758\n",
      "2021-02-28 20:00:00   1156.0  1121.19  1159.63  1119.37  2217.30903\n",
      "2021-02-28 21:00:00   1170.4  1155.49   1175.4  1150.55  2530.15172\n",
      "2021-02-28 22:00:00   1175.0  1170.29  1183.28  1163.42  2801.53662\n",
      "2021-02-28 23:00:00  1179.39   1175.0  1180.97  1156.75  1292.76135\n"
     ]
    }
   ],
   "source": [
    "# data inspection\n",
    "head = data.head(5)\n",
    "tail = data.tail(5)\n",
    "mid = pd.DataFrame({\"...\":[\"...\" for i in data.columns]}).transpose()\n",
    "mid.columns = data.columns\n",
    "preview = pd.concat([head, mid, tail])\n",
    "preview.index.name = data.index.name\n",
    "print(preview)"
   ]
  },
  {
   "cell_type": "code",
   "execution_count": 18,
   "id": "specialized-suggestion",
   "metadata": {},
   "outputs": [],
   "source": [
    "# get values\n",
    "values = data.values\n",
    "# ensure that all values are floats\n",
    "values = values.astype('float64')\n",
    "# normalize features\n",
    "scaler = MinMaxScaler(feature_range=(0, 1))\n",
    "scaled = scaler.fit_transform(values)"
   ]
  },
  {
   "cell_type": "markdown",
   "id": "seventh-killing",
   "metadata": {},
   "source": [
    "Then, you must frame the problem suitably when calling series_to_supervised(). We will use 3 hours of data as input. Also note, we no longer explictly drop the columns from all of the other fields at ob(t)."
   ]
  },
  {
   "cell_type": "code",
   "execution_count": 21,
   "id": "apart-consumer",
   "metadata": {},
   "outputs": [
    {
     "name": "stdout",
     "output_type": "stream",
     "text": [
      "(10122, 20)\n"
     ]
    }
   ],
   "source": [
    "# specify the number of lag hours\n",
    "n_hours = 3\n",
    "n_features = 5\n",
    "# frame as supervised learning\n",
    "reframed = series_to_supervised(scaled, n_hours, 1)\n",
    "print(reframed.shape)"
   ]
  },
  {
   "cell_type": "code",
   "execution_count": 23,
   "id": "turned-concern",
   "metadata": {},
   "outputs": [
    {
     "data": {
      "text/html": [
       "<div>\n",
       "<style scoped>\n",
       "    .dataframe tbody tr th:only-of-type {\n",
       "        vertical-align: middle;\n",
       "    }\n",
       "\n",
       "    .dataframe tbody tr th {\n",
       "        vertical-align: top;\n",
       "    }\n",
       "\n",
       "    .dataframe thead th {\n",
       "        text-align: right;\n",
       "    }\n",
       "</style>\n",
       "<table border=\"1\" class=\"dataframe\">\n",
       "  <thead>\n",
       "    <tr style=\"text-align: right;\">\n",
       "      <th></th>\n",
       "      <th>var1(t-3)</th>\n",
       "      <th>var2(t-3)</th>\n",
       "      <th>var3(t-3)</th>\n",
       "      <th>var4(t-3)</th>\n",
       "      <th>var5(t-3)</th>\n",
       "      <th>var1(t-2)</th>\n",
       "      <th>var2(t-2)</th>\n",
       "      <th>var3(t-2)</th>\n",
       "      <th>var4(t-2)</th>\n",
       "      <th>var5(t-2)</th>\n",
       "      <th>var1(t-1)</th>\n",
       "      <th>var2(t-1)</th>\n",
       "      <th>var3(t-1)</th>\n",
       "      <th>var4(t-1)</th>\n",
       "      <th>var5(t-1)</th>\n",
       "      <th>var1(t)</th>\n",
       "      <th>var2(t)</th>\n",
       "      <th>var3(t)</th>\n",
       "      <th>var4(t)</th>\n",
       "      <th>var5(t)</th>\n",
       "    </tr>\n",
       "  </thead>\n",
       "  <tbody>\n",
       "    <tr>\n",
       "      <th>3</th>\n",
       "      <td>0.016970</td>\n",
       "      <td>0.016525</td>\n",
       "      <td>0.013103</td>\n",
       "      <td>0.022112</td>\n",
       "      <td>0.000058</td>\n",
       "      <td>0.018900</td>\n",
       "      <td>0.019463</td>\n",
       "      <td>0.015033</td>\n",
       "      <td>0.025041</td>\n",
       "      <td>0.000026</td>\n",
       "      <td>0.018622</td>\n",
       "      <td>0.019211</td>\n",
       "      <td>0.014780</td>\n",
       "      <td>0.024765</td>\n",
       "      <td>0.000070</td>\n",
       "      <td>0.018862</td>\n",
       "      <td>0.019425</td>\n",
       "      <td>0.014995</td>\n",
       "      <td>0.025003</td>\n",
       "      <td>0.000004</td>\n",
       "    </tr>\n",
       "    <tr>\n",
       "      <th>4</th>\n",
       "      <td>0.018900</td>\n",
       "      <td>0.019463</td>\n",
       "      <td>0.015033</td>\n",
       "      <td>0.025041</td>\n",
       "      <td>0.000026</td>\n",
       "      <td>0.018622</td>\n",
       "      <td>0.019211</td>\n",
       "      <td>0.014780</td>\n",
       "      <td>0.024765</td>\n",
       "      <td>0.000070</td>\n",
       "      <td>0.018862</td>\n",
       "      <td>0.019425</td>\n",
       "      <td>0.014995</td>\n",
       "      <td>0.025003</td>\n",
       "      <td>0.000004</td>\n",
       "      <td>0.018862</td>\n",
       "      <td>0.019425</td>\n",
       "      <td>0.014995</td>\n",
       "      <td>0.025003</td>\n",
       "      <td>0.000000</td>\n",
       "    </tr>\n",
       "    <tr>\n",
       "      <th>5</th>\n",
       "      <td>0.018622</td>\n",
       "      <td>0.019211</td>\n",
       "      <td>0.014780</td>\n",
       "      <td>0.024765</td>\n",
       "      <td>0.000070</td>\n",
       "      <td>0.018862</td>\n",
       "      <td>0.019425</td>\n",
       "      <td>0.014995</td>\n",
       "      <td>0.025003</td>\n",
       "      <td>0.000004</td>\n",
       "      <td>0.018862</td>\n",
       "      <td>0.019425</td>\n",
       "      <td>0.014995</td>\n",
       "      <td>0.025003</td>\n",
       "      <td>0.000000</td>\n",
       "      <td>0.018862</td>\n",
       "      <td>0.019583</td>\n",
       "      <td>0.015152</td>\n",
       "      <td>0.025003</td>\n",
       "      <td>0.001894</td>\n",
       "    </tr>\n",
       "    <tr>\n",
       "      <th>6</th>\n",
       "      <td>0.018862</td>\n",
       "      <td>0.019425</td>\n",
       "      <td>0.014995</td>\n",
       "      <td>0.025003</td>\n",
       "      <td>0.000004</td>\n",
       "      <td>0.018862</td>\n",
       "      <td>0.019425</td>\n",
       "      <td>0.014995</td>\n",
       "      <td>0.025003</td>\n",
       "      <td>0.000000</td>\n",
       "      <td>0.018862</td>\n",
       "      <td>0.019583</td>\n",
       "      <td>0.015152</td>\n",
       "      <td>0.025003</td>\n",
       "      <td>0.001894</td>\n",
       "      <td>0.018862</td>\n",
       "      <td>0.019425</td>\n",
       "      <td>0.014995</td>\n",
       "      <td>0.025003</td>\n",
       "      <td>0.000000</td>\n",
       "    </tr>\n",
       "    <tr>\n",
       "      <th>7</th>\n",
       "      <td>0.018862</td>\n",
       "      <td>0.019425</td>\n",
       "      <td>0.014995</td>\n",
       "      <td>0.025003</td>\n",
       "      <td>0.000000</td>\n",
       "      <td>0.018862</td>\n",
       "      <td>0.019583</td>\n",
       "      <td>0.015152</td>\n",
       "      <td>0.025003</td>\n",
       "      <td>0.001894</td>\n",
       "      <td>0.018862</td>\n",
       "      <td>0.019425</td>\n",
       "      <td>0.014995</td>\n",
       "      <td>0.025003</td>\n",
       "      <td>0.000000</td>\n",
       "      <td>0.018351</td>\n",
       "      <td>0.018952</td>\n",
       "      <td>0.014522</td>\n",
       "      <td>0.024494</td>\n",
       "      <td>0.000015</td>\n",
       "    </tr>\n",
       "    <tr>\n",
       "      <th>...</th>\n",
       "      <td>...</td>\n",
       "      <td>...</td>\n",
       "      <td>...</td>\n",
       "      <td>...</td>\n",
       "      <td>...</td>\n",
       "      <td>...</td>\n",
       "      <td>...</td>\n",
       "      <td>...</td>\n",
       "      <td>...</td>\n",
       "      <td>...</td>\n",
       "      <td>...</td>\n",
       "      <td>...</td>\n",
       "      <td>...</td>\n",
       "      <td>...</td>\n",
       "      <td>...</td>\n",
       "      <td>...</td>\n",
       "      <td>...</td>\n",
       "      <td>...</td>\n",
       "      <td>...</td>\n",
       "      <td>...</td>\n",
       "    </tr>\n",
       "    <tr>\n",
       "      <th>10120</th>\n",
       "      <td>0.637097</td>\n",
       "      <td>0.656484</td>\n",
       "      <td>0.652710</td>\n",
       "      <td>0.628053</td>\n",
       "      <td>0.219140</td>\n",
       "      <td>0.651581</td>\n",
       "      <td>0.636990</td>\n",
       "      <td>0.657553</td>\n",
       "      <td>0.632202</td>\n",
       "      <td>0.244847</td>\n",
       "      <td>0.641128</td>\n",
       "      <td>0.651623</td>\n",
       "      <td>0.652653</td>\n",
       "      <td>0.644615</td>\n",
       "      <td>0.099206</td>\n",
       "      <td>0.651373</td>\n",
       "      <td>0.641284</td>\n",
       "      <td>0.651676</td>\n",
       "      <td>0.642296</td>\n",
       "      <td>0.118446</td>\n",
       "    </tr>\n",
       "    <tr>\n",
       "      <th>10121</th>\n",
       "      <td>0.651581</td>\n",
       "      <td>0.636990</td>\n",
       "      <td>0.657553</td>\n",
       "      <td>0.632202</td>\n",
       "      <td>0.244847</td>\n",
       "      <td>0.641128</td>\n",
       "      <td>0.651623</td>\n",
       "      <td>0.652653</td>\n",
       "      <td>0.644615</td>\n",
       "      <td>0.099206</td>\n",
       "      <td>0.651373</td>\n",
       "      <td>0.641284</td>\n",
       "      <td>0.651676</td>\n",
       "      <td>0.642296</td>\n",
       "      <td>0.118446</td>\n",
       "      <td>0.673421</td>\n",
       "      <td>0.651661</td>\n",
       "      <td>0.671558</td>\n",
       "      <td>0.654157</td>\n",
       "      <td>0.115760</td>\n",
       "    </tr>\n",
       "    <tr>\n",
       "      <th>10122</th>\n",
       "      <td>0.641128</td>\n",
       "      <td>0.651623</td>\n",
       "      <td>0.652653</td>\n",
       "      <td>0.644615</td>\n",
       "      <td>0.099206</td>\n",
       "      <td>0.651373</td>\n",
       "      <td>0.641284</td>\n",
       "      <td>0.651676</td>\n",
       "      <td>0.642296</td>\n",
       "      <td>0.118446</td>\n",
       "      <td>0.673421</td>\n",
       "      <td>0.651661</td>\n",
       "      <td>0.671558</td>\n",
       "      <td>0.654157</td>\n",
       "      <td>0.115760</td>\n",
       "      <td>0.682505</td>\n",
       "      <td>0.673287</td>\n",
       "      <td>0.681502</td>\n",
       "      <td>0.673755</td>\n",
       "      <td>0.132093</td>\n",
       "    </tr>\n",
       "    <tr>\n",
       "      <th>10123</th>\n",
       "      <td>0.651373</td>\n",
       "      <td>0.641284</td>\n",
       "      <td>0.651676</td>\n",
       "      <td>0.642296</td>\n",
       "      <td>0.118446</td>\n",
       "      <td>0.673421</td>\n",
       "      <td>0.651661</td>\n",
       "      <td>0.671558</td>\n",
       "      <td>0.654157</td>\n",
       "      <td>0.115760</td>\n",
       "      <td>0.682505</td>\n",
       "      <td>0.673287</td>\n",
       "      <td>0.681502</td>\n",
       "      <td>0.673755</td>\n",
       "      <td>0.132093</td>\n",
       "      <td>0.685407</td>\n",
       "      <td>0.682618</td>\n",
       "      <td>0.686471</td>\n",
       "      <td>0.681844</td>\n",
       "      <td>0.146262</td>\n",
       "    </tr>\n",
       "    <tr>\n",
       "      <th>10124</th>\n",
       "      <td>0.673421</td>\n",
       "      <td>0.651661</td>\n",
       "      <td>0.671558</td>\n",
       "      <td>0.654157</td>\n",
       "      <td>0.115760</td>\n",
       "      <td>0.682505</td>\n",
       "      <td>0.673287</td>\n",
       "      <td>0.681502</td>\n",
       "      <td>0.673755</td>\n",
       "      <td>0.132093</td>\n",
       "      <td>0.685407</td>\n",
       "      <td>0.682618</td>\n",
       "      <td>0.686471</td>\n",
       "      <td>0.681844</td>\n",
       "      <td>0.146262</td>\n",
       "      <td>0.688176</td>\n",
       "      <td>0.685587</td>\n",
       "      <td>0.685014</td>\n",
       "      <td>0.677652</td>\n",
       "      <td>0.067492</td>\n",
       "    </tr>\n",
       "  </tbody>\n",
       "</table>\n",
       "<p>10122 rows × 20 columns</p>\n",
       "</div>"
      ],
      "text/plain": [
       "       var1(t-3)  var2(t-3)  var3(t-3)  var4(t-3)  var5(t-3)  var1(t-2)  \\\n",
       "3       0.016970   0.016525   0.013103   0.022112   0.000058   0.018900   \n",
       "4       0.018900   0.019463   0.015033   0.025041   0.000026   0.018622   \n",
       "5       0.018622   0.019211   0.014780   0.024765   0.000070   0.018862   \n",
       "6       0.018862   0.019425   0.014995   0.025003   0.000004   0.018862   \n",
       "7       0.018862   0.019425   0.014995   0.025003   0.000000   0.018862   \n",
       "...          ...        ...        ...        ...        ...        ...   \n",
       "10120   0.637097   0.656484   0.652710   0.628053   0.219140   0.651581   \n",
       "10121   0.651581   0.636990   0.657553   0.632202   0.244847   0.641128   \n",
       "10122   0.641128   0.651623   0.652653   0.644615   0.099206   0.651373   \n",
       "10123   0.651373   0.641284   0.651676   0.642296   0.118446   0.673421   \n",
       "10124   0.673421   0.651661   0.671558   0.654157   0.115760   0.682505   \n",
       "\n",
       "       var2(t-2)  var3(t-2)  var4(t-2)  var5(t-2)  var1(t-1)  var2(t-1)  \\\n",
       "3       0.019463   0.015033   0.025041   0.000026   0.018622   0.019211   \n",
       "4       0.019211   0.014780   0.024765   0.000070   0.018862   0.019425   \n",
       "5       0.019425   0.014995   0.025003   0.000004   0.018862   0.019425   \n",
       "6       0.019425   0.014995   0.025003   0.000000   0.018862   0.019583   \n",
       "7       0.019583   0.015152   0.025003   0.001894   0.018862   0.019425   \n",
       "...          ...        ...        ...        ...        ...        ...   \n",
       "10120   0.636990   0.657553   0.632202   0.244847   0.641128   0.651623   \n",
       "10121   0.651623   0.652653   0.644615   0.099206   0.651373   0.641284   \n",
       "10122   0.641284   0.651676   0.642296   0.118446   0.673421   0.651661   \n",
       "10123   0.651661   0.671558   0.654157   0.115760   0.682505   0.673287   \n",
       "10124   0.673287   0.681502   0.673755   0.132093   0.685407   0.682618   \n",
       "\n",
       "       var3(t-1)  var4(t-1)  var5(t-1)   var1(t)   var2(t)   var3(t)  \\\n",
       "3       0.014780   0.024765   0.000070  0.018862  0.019425  0.014995   \n",
       "4       0.014995   0.025003   0.000004  0.018862  0.019425  0.014995   \n",
       "5       0.014995   0.025003   0.000000  0.018862  0.019583  0.015152   \n",
       "6       0.015152   0.025003   0.001894  0.018862  0.019425  0.014995   \n",
       "7       0.014995   0.025003   0.000000  0.018351  0.018952  0.014522   \n",
       "...          ...        ...        ...       ...       ...       ...   \n",
       "10120   0.652653   0.644615   0.099206  0.651373  0.641284  0.651676   \n",
       "10121   0.651676   0.642296   0.118446  0.673421  0.651661  0.671558   \n",
       "10122   0.671558   0.654157   0.115760  0.682505  0.673287  0.681502   \n",
       "10123   0.681502   0.673755   0.132093  0.685407  0.682618  0.686471   \n",
       "10124   0.686471   0.681844   0.146262  0.688176  0.685587  0.685014   \n",
       "\n",
       "        var4(t)   var5(t)  \n",
       "3      0.025003  0.000004  \n",
       "4      0.025003  0.000000  \n",
       "5      0.025003  0.001894  \n",
       "6      0.025003  0.000000  \n",
       "7      0.024494  0.000015  \n",
       "...         ...       ...  \n",
       "10120  0.642296  0.118446  \n",
       "10121  0.654157  0.115760  \n",
       "10122  0.673755  0.132093  \n",
       "10123  0.681844  0.146262  \n",
       "10124  0.677652  0.067492  \n",
       "\n",
       "[10122 rows x 20 columns]"
      ]
     },
     "execution_count": 23,
     "metadata": {},
     "output_type": "execute_result"
    }
   ],
   "source": [
    "reframed"
   ]
  },
  {
   "cell_type": "code",
   "execution_count": 22,
   "id": "developed-atlantic",
   "metadata": {},
   "outputs": [],
   "source": [
    "# split into train and test sets\n",
    "values = reframed.values\n",
    "n_train_hours = reframed.shape[0] - 3 * 24\n",
    "train = values[:n_train_hours, :]\n",
    "test = values[n_train_hours:, :]"
   ]
  },
  {
   "cell_type": "markdown",
   "id": "competitive-nursing",
   "metadata": {},
   "source": [
    "Next, we need to be more careful in specifying the column for input and output.\n",
    "\n",
    "We have 3 * 5 + 5 columns in our framed dataset. We will take 3 * 5 or 15 columns as input for the obs of all features across the previous 3 hours. We will take just the close price variable as output at the following hour, as follows:"
   ]
  },
  {
   "cell_type": "markdown",
   "id": "israeli-affiliate",
   "metadata": {},
   "source": [
    "Next, we can reshape our input data correctly to reflect the time steps and features."
   ]
  },
  {
   "cell_type": "code",
   "execution_count": 32,
   "id": "aggregate-starter",
   "metadata": {},
   "outputs": [
    {
     "name": "stdout",
     "output_type": "stream",
     "text": [
      "(10050, 15) 10050 (10050,)\n"
     ]
    }
   ],
   "source": [
    "# split into input and outputs\n",
    "n_obs = max(1,n_hours) * n_features\n",
    "train_X, train_y = train[:, :n_obs], train[:, -n_features]\n",
    "test_X, test_y = test[:, :n_obs], test[:, -n_features]\n",
    "print(train_X.shape, len(train_X), train_y.shape)"
   ]
  },
  {
   "cell_type": "code",
   "execution_count": 33,
   "id": "artificial-mother",
   "metadata": {},
   "outputs": [
    {
     "name": "stdout",
     "output_type": "stream",
     "text": [
      "(10050, 3, 5) (10050,) (72, 3, 5) (72,)\n"
     ]
    }
   ],
   "source": [
    "# reshape input to be 3D [samples, timesteps, features]\n",
    "timesteps = max(1,n_hours)\n",
    "train_X = train_X.reshape((train_X.shape[0], timesteps, n_features))\n",
    "test_X = test_X.reshape((test_X.shape[0], timesteps, n_features))\n",
    "print(train_X.shape, train_y.shape, test_X.shape, test_y.shape)"
   ]
  },
  {
   "cell_type": "markdown",
   "id": "piano-particular",
   "metadata": {},
   "source": [
    "Fitting the model is the same."
   ]
  },
  {
   "cell_type": "code",
   "execution_count": 39,
   "id": "medium-spare",
   "metadata": {},
   "outputs": [],
   "source": [
    "from tensorflow.keras.layers import Dropout"
   ]
  },
  {
   "cell_type": "code",
   "execution_count": 40,
   "id": "intermediate-pepper",
   "metadata": {},
   "outputs": [],
   "source": [
    "# design network\n",
    "model = Sequential()\n",
    "# first layer\n",
    "model.add(LSTM(units = 50, return_sequences = True, input_shape=(train_X.shape[1], train_X.shape[2])))\n",
    "model.add(Dropout(0.2))\n",
    "\n",
    "# second layer\n",
    "model.add(LSTM(units = 50, return_sequences = True))\n",
    "model.add(Dropout(0.2))\n",
    "\n",
    "# third layer\n",
    "model.add(LSTM(units = 50, return_sequences = True))\n",
    "model.add(Dropout(0.2))\n",
    "\n",
    "# last layer\n",
    "model.add(LSTM(units = 50))\n",
    "model.add(Dropout(0.2))\n",
    "\n",
    "# dense down the net\n",
    "model.add(Dense(1))\n",
    "\n",
    "# compile loss\n",
    "model.compile(loss='mean_squared_error', optimizer='adam')"
   ]
  },
  {
   "cell_type": "code",
   "execution_count": 41,
   "id": "intellectual-better",
   "metadata": {
    "collapsed": true,
    "jupyter": {
     "outputs_hidden": true
    }
   },
   "outputs": [
    {
     "name": "stdout",
     "output_type": "stream",
     "text": [
      "Epoch 1/50\n",
      "140/140 - 10s - loss: 0.0017\n",
      "Epoch 2/50\n",
      "140/140 - 5s - loss: 0.0071\n",
      "Epoch 3/50\n",
      "140/140 - 5s - loss: 0.0080\n",
      "Epoch 4/50\n",
      "140/140 - 5s - loss: 0.0099\n",
      "Epoch 5/50\n",
      "140/140 - 5s - loss: 0.0115\n",
      "Epoch 6/50\n",
      "140/140 - 5s - loss: 0.0145\n",
      "Epoch 7/50\n",
      "140/140 - 5s - loss: 0.0078\n",
      "Epoch 8/50\n",
      "140/140 - 5s - loss: 0.0100\n",
      "Epoch 9/50\n",
      "140/140 - 5s - loss: 0.0205\n",
      "Epoch 10/50\n",
      "140/140 - 5s - loss: 0.0187\n",
      "Epoch 11/50\n",
      "140/140 - 5s - loss: 0.0281\n",
      "Epoch 12/50\n",
      "140/140 - 5s - loss: 0.0466\n",
      "Epoch 13/50\n",
      "140/140 - 5s - loss: 0.0447\n",
      "Epoch 14/50\n",
      "140/140 - 5s - loss: 0.0086\n",
      "Epoch 15/50\n",
      "140/140 - 5s - loss: 0.0067\n",
      "Epoch 16/50\n",
      "140/140 - 5s - loss: 0.0049\n",
      "Epoch 17/50\n",
      "140/140 - 5s - loss: 0.0029\n",
      "Epoch 18/50\n",
      "140/140 - 5s - loss: 0.0031\n",
      "Epoch 19/50\n",
      "140/140 - 5s - loss: 0.0043\n",
      "Epoch 20/50\n",
      "140/140 - 5s - loss: 0.0046\n",
      "Epoch 21/50\n",
      "140/140 - 5s - loss: 0.0051\n",
      "Epoch 22/50\n",
      "140/140 - 5s - loss: 0.0084\n",
      "Epoch 23/50\n",
      "140/140 - 4s - loss: 0.0048\n",
      "Epoch 24/50\n",
      "140/140 - 5s - loss: 0.0047\n",
      "Epoch 25/50\n",
      "140/140 - 5s - loss: 0.0059\n",
      "Epoch 26/50\n",
      "140/140 - 5s - loss: 0.0056\n",
      "Epoch 27/50\n",
      "140/140 - 5s - loss: 0.0043\n",
      "Epoch 28/50\n",
      "140/140 - 4s - loss: 0.0050\n",
      "Epoch 29/50\n",
      "140/140 - 5s - loss: 0.0040\n",
      "Epoch 30/50\n",
      "140/140 - 5s - loss: 0.0035\n",
      "Epoch 31/50\n",
      "140/140 - 4s - loss: 0.0035\n",
      "Epoch 32/50\n",
      "140/140 - 5s - loss: 0.0042\n",
      "Epoch 33/50\n",
      "140/140 - 5s - loss: 0.0041\n",
      "Epoch 34/50\n",
      "140/140 - 5s - loss: 0.0032\n",
      "Epoch 35/50\n",
      "140/140 - 5s - loss: 0.0025\n",
      "Epoch 36/50\n",
      "140/140 - 5s - loss: 0.0020\n",
      "Epoch 37/50\n",
      "140/140 - 5s - loss: 0.0014\n",
      "Epoch 38/50\n",
      "140/140 - 5s - loss: 0.0012\n",
      "Epoch 39/50\n",
      "140/140 - 5s - loss: 9.6463e-04\n",
      "Epoch 40/50\n",
      "140/140 - 5s - loss: 0.0010\n",
      "Epoch 41/50\n",
      "140/140 - 5s - loss: 9.5913e-04\n",
      "Epoch 42/50\n",
      "140/140 - 5s - loss: 0.0010\n",
      "Epoch 43/50\n",
      "140/140 - 5s - loss: 8.8919e-04\n",
      "Epoch 44/50\n",
      "140/140 - 4s - loss: 8.4293e-04\n",
      "Epoch 45/50\n",
      "140/140 - 5s - loss: 8.6258e-04\n",
      "Epoch 46/50\n",
      "140/140 - 5s - loss: 8.9231e-04\n",
      "Epoch 47/50\n",
      "140/140 - 5s - loss: 0.0012\n",
      "Epoch 48/50\n",
      "140/140 - 5s - loss: 0.0011\n",
      "Epoch 49/50\n",
      "140/140 - 5s - loss: 0.0016\n",
      "Epoch 50/50\n",
      "140/140 - 5s - loss: 0.0019\n"
     ]
    },
    {
     "data": {
      "text/plain": [
       "<tensorflow.python.keras.callbacks.History at 0x7f18842f71c0>"
      ]
     },
     "execution_count": 41,
     "metadata": {},
     "output_type": "execute_result"
    }
   ],
   "source": [
    "model.fit(\n",
    "    train_X, \n",
    "    train_y, \n",
    "    epochs=50,\n",
    "    batch_size=72,\n",
    "    verbose=2,\n",
    "    shuffle=False\n",
    ")"
   ]
  },
  {
   "cell_type": "code",
   "execution_count": 490,
   "id": "convertible-essex",
   "metadata": {},
   "outputs": [],
   "source": [
    "# fit network\n",
    "#history = model.fit(\n",
    "#    train_X, \n",
    "#    train_y, \n",
    "#    epochs=50, \n",
    "#    batch_size=72, \n",
    "#    validation_data=(test_X, test_y),\n",
    "#    verbose=2,\n",
    "#    shuffle=False\n",
    "#)"
   ]
  },
  {
   "cell_type": "code",
   "execution_count": 491,
   "id": "partial-reunion",
   "metadata": {},
   "outputs": [],
   "source": [
    "## plot history\n",
    "#pyplot.plot(history.history['loss'], label='train')\n",
    "#pyplot.plot(history.history['val_loss'], label='test')\n",
    "#pyplot.legend()\n",
    "#pyplot.show()"
   ]
  },
  {
   "cell_type": "code",
   "execution_count": 45,
   "id": "northern-logic",
   "metadata": {},
   "outputs": [],
   "source": [
    "# make a prediction\n",
    "yhat = model.predict(test_X)\n",
    "test_X = test_X.reshape((test_X.shape[0], max(1,n_hours)*n_features))"
   ]
  },
  {
   "cell_type": "markdown",
   "id": "beginning-purchase",
   "metadata": {},
   "source": [
    "The only other small change is in how to evaluate the model. Specifically, in how we reconstruct the rows with 8 columns suitable for reversing the scaling operation to get the y and yhat back into the original scale so that we can calculate the RMSE.\n",
    "\n",
    "The gist of the change is that we concatenate the y or yhat column with the last 7 features of the test dataset in order to inverse the scaling, as follows:"
   ]
  },
  {
   "cell_type": "code",
   "execution_count": 46,
   "id": "present-electronics",
   "metadata": {},
   "outputs": [],
   "source": [
    "# invert scaling for forecast\n",
    "n_inverted = n_features - 1\n",
    "inv_yhat = concatenate((yhat, test_X[:, -n_inverted:]), axis=1)\n",
    "inv_yhat = scaler.inverse_transform(inv_yhat)\n",
    "inv_yhat = inv_yhat[:,0]\n",
    "# invert scaling for actual\n",
    "test_y = test_y.reshape((len(test_y), 1))\n",
    "inv_y = concatenate((test_y, test_X[:, -n_inverted:]), axis=1)\n",
    "inv_y = scaler.inverse_transform(inv_y)\n",
    "inv_y = inv_y[:,0]"
   ]
  },
  {
   "cell_type": "code",
   "execution_count": 47,
   "id": "opened-default",
   "metadata": {},
   "outputs": [
    {
     "name": "stdout",
     "output_type": "stream",
     "text": [
      "Test RMSE: 351.587\n"
     ]
    }
   ],
   "source": [
    "# calculate RMSE\n",
    "rmse = sqrt(mean_squared_error(inv_y, inv_yhat))\n",
    "print('Test RMSE: %.3f' % rmse)"
   ]
  },
  {
   "cell_type": "code",
   "execution_count": 50,
   "id": "early-mexico",
   "metadata": {},
   "outputs": [
    {
     "data": {
      "text/plain": [
       "<AxesSubplot:>"
      ]
     },
     "execution_count": 50,
     "metadata": {},
     "output_type": "execute_result"
    },
    {
     "data": {
      "image/png": "[encoded data removed]",
      "text/plain": [
       "<Figure size 432x288 with 1 Axes>"
      ]
     },
     "metadata": {
      "needs_background": "light"
     },
     "output_type": "display_data"
    }
   ],
   "source": [
    "# inspect the time series\n",
    "past = {\n",
    "    \"real\": data.close.iloc[:n_train_hours].tail(50).to_list(),\n",
    "    \"pred\": [np.nan for i in range(50)]\n",
    "}\n",
    "predicted = {\n",
    "    \"real\": inv_y,\n",
    "    \"pred\": inv_yhat,\n",
    "}\n",
    "\n",
    "check = pd.concat(\n",
    "    [\n",
    "        pd.DataFrame(past),\n",
    "        pd.DataFrame(predicted)\n",
    "    ]\n",
    ").reset_index(drop=True)\n",
    "check.plot()"
   ]
  },
  {
   "cell_type": "code",
   "execution_count": 49,
   "id": "funded-finding",
   "metadata": {},
   "outputs": [
    {
     "data": {
      "text/html": [
       "<div>\n",
       "<style scoped>\n",
       "    .dataframe tbody tr th:only-of-type {\n",
       "        vertical-align: middle;\n",
       "    }\n",
       "\n",
       "    .dataframe tbody tr th {\n",
       "        vertical-align: top;\n",
       "    }\n",
       "\n",
       "    .dataframe thead th {\n",
       "        text-align: right;\n",
       "    }\n",
       "</style>\n",
       "<table border=\"1\" class=\"dataframe\">\n",
       "  <thead>\n",
       "    <tr style=\"text-align: right;\">\n",
       "      <th></th>\n",
       "      <th>real</th>\n",
       "      <th>pred</th>\n",
       "      <th>rel_diff_%</th>\n",
       "    </tr>\n",
       "  </thead>\n",
       "  <tbody>\n",
       "    <tr>\n",
       "      <th>49</th>\n",
       "      <td>1312.35</td>\n",
       "      <td>1.000000</td>\n",
       "      <td>-99.923801</td>\n",
       "    </tr>\n",
       "    <tr>\n",
       "      <th>50</th>\n",
       "      <td>1223.41</td>\n",
       "      <td>1581.821783</td>\n",
       "      <td>29.296130</td>\n",
       "    </tr>\n",
       "    <tr>\n",
       "      <th>51</th>\n",
       "      <td>1222.98</td>\n",
       "      <td>1577.909361</td>\n",
       "      <td>29.021682</td>\n",
       "    </tr>\n",
       "    <tr>\n",
       "      <th>52</th>\n",
       "      <td>1215.36</td>\n",
       "      <td>1573.917289</td>\n",
       "      <td>29.502147</td>\n",
       "    </tr>\n",
       "    <tr>\n",
       "      <th>53</th>\n",
       "      <td>1226.29</td>\n",
       "      <td>1570.147917</td>\n",
       "      <td>28.040506</td>\n",
       "    </tr>\n",
       "    <tr>\n",
       "      <th>54</th>\n",
       "      <td>1230.38</td>\n",
       "      <td>1566.807883</td>\n",
       "      <td>27.343413</td>\n",
       "    </tr>\n",
       "    <tr>\n",
       "      <th>55</th>\n",
       "      <td>1241.43</td>\n",
       "      <td>1564.332195</td>\n",
       "      <td>26.010504</td>\n",
       "    </tr>\n",
       "    <tr>\n",
       "      <th>56</th>\n",
       "      <td>1198.30</td>\n",
       "      <td>1563.131673</td>\n",
       "      <td>30.445771</td>\n",
       "    </tr>\n",
       "    <tr>\n",
       "      <th>57</th>\n",
       "      <td>1209.49</td>\n",
       "      <td>1563.291163</td>\n",
       "      <td>29.252095</td>\n",
       "    </tr>\n",
       "    <tr>\n",
       "      <th>58</th>\n",
       "      <td>1179.55</td>\n",
       "      <td>1564.060174</td>\n",
       "      <td>32.598039</td>\n",
       "    </tr>\n",
       "    <tr>\n",
       "      <th>59</th>\n",
       "      <td>1201.94</td>\n",
       "      <td>1563.742138</td>\n",
       "      <td>30.101514</td>\n",
       "    </tr>\n",
       "  </tbody>\n",
       "</table>\n",
       "</div>"
      ],
      "text/plain": [
       "       real         pred  rel_diff_%\n",
       "49  1312.35     1.000000  -99.923801\n",
       "50  1223.41  1581.821783   29.296130\n",
       "51  1222.98  1577.909361   29.021682\n",
       "52  1215.36  1573.917289   29.502147\n",
       "53  1226.29  1570.147917   28.040506\n",
       "54  1230.38  1566.807883   27.343413\n",
       "55  1241.43  1564.332195   26.010504\n",
       "56  1198.30  1563.131673   30.445771\n",
       "57  1209.49  1563.291163   29.252095\n",
       "58  1179.55  1564.060174   32.598039\n",
       "59  1201.94  1563.742138   30.101514"
      ]
     },
     "execution_count": 49,
     "metadata": {},
     "output_type": "execute_result"
    }
   ],
   "source": [
    "check[\"rel_diff_%\"] = (check.pred - check.real) / check.real * 100\n",
    "check.iloc[49:60,:]"
   ]
  },
  {
   "cell_type": "code",
   "execution_count": 8,
   "id": "physical-sessions",
   "metadata": {},
   "outputs": [
    {
     "name": "stdout",
     "output_type": "stream",
     "text": [
      "2021-04-06 15:36:47.369264: I tensorflow/stream_executor/platform/default/dso_loader.cc:49] Successfully opened dynamic library libcudart.so.11.0\n",
      "Reframed data shape: (10101, 125)\n",
      "(10029, 120) 10029 (10029,)\n",
      "(10029, 24, 5) (10029,) (72, 24, 5) (72,)\n",
      "2021-04-06 15:36:48.061674: I tensorflow/compiler/jit/xla_cpu_device.cc:41] Not creating XLA devices, tf_xla_enable_xla_devices not set\n",
      "2021-04-06 15:36:48.062190: I tensorflow/stream_executor/platform/default/dso_loader.cc:49] Successfully opened dynamic library libcuda.so.1\n",
      "2021-04-06 15:36:48.097353: I tensorflow/stream_executor/cuda/cuda_gpu_executor.cc:941] successful NUMA node read from SysFS had negative value (-1), but there must be at least one NUMA node, so returning NUMA node zero\n",
      "2021-04-06 15:36:48.097699: I tensorflow/core/common_runtime/gpu/gpu_device.cc:1720] Found device 0 with properties: \n",
      "pciBusID: 0000:0a:00.0 name: GeForce GTX 1660 computeCapability: 7.5\n",
      "coreClock: 1.83GHz coreCount: 22 deviceMemorySize: 5.80GiB deviceMemoryBandwidth: 178.86GiB/s\n",
      "2021-04-06 15:36:48.097719: I tensorflow/stream_executor/platform/default/dso_loader.cc:49] Successfully opened dynamic library libcudart.so.11.0\n",
      "2021-04-06 15:36:48.099238: I tensorflow/stream_executor/platform/default/dso_loader.cc:49] Successfully opened dynamic library libcublas.so.11\n",
      "2021-04-06 15:36:48.099268: I tensorflow/stream_executor/platform/default/dso_loader.cc:49] Successfully opened dynamic library libcublasLt.so.11\n",
      "2021-04-06 15:36:48.099798: I tensorflow/stream_executor/platform/default/dso_loader.cc:49] Successfully opened dynamic library libcufft.so.10\n",
      "2021-04-06 15:36:48.099933: I tensorflow/stream_executor/platform/default/dso_loader.cc:49] Successfully opened dynamic library libcurand.so.10\n",
      "2021-04-06 15:36:48.100012: W tensorflow/stream_executor/platform/default/dso_loader.cc:60] Could not load dynamic library 'libcusolver.so.10'; dlerror: libcusolver.so.10: cannot open shared object file: No such file or directory\n",
      "2021-04-06 15:36:48.100339: I tensorflow/stream_executor/platform/default/dso_loader.cc:49] Successfully opened dynamic library libcusparse.so.11\n",
      "2021-04-06 15:36:48.100383: W tensorflow/stream_executor/platform/default/dso_loader.cc:60] Could not load dynamic library 'libcudnn.so.8'; dlerror: libcudnn.so.8: cannot open shared object file: No such file or directory\n",
      "2021-04-06 15:36:48.100390: W tensorflow/core/common_runtime/gpu/gpu_device.cc:1757] Cannot dlopen some GPU libraries. Please make sure the missing libraries mentioned above are installed properly if you would like to use GPU. Follow the guide at https://www.tensorflow.org/install/gpu for how to download and setup the required libraries for your platform.\n",
      "Skipping registering GPU devices...\n",
      "2021-04-06 15:36:48.100613: I tensorflow/core/platform/cpu_feature_guard.cc:142] This TensorFlow binary is optimized with oneAPI Deep Neural Network Library (oneDNN) to use the following CPU instructions in performance-critical operations:  AVX2 FMA\n",
      "To enable them in other operations, rebuild TensorFlow with the appropriate compiler flags.\n",
      "2021-04-06 15:36:48.100905: I tensorflow/compiler/jit/xla_gpu_device.cc:99] Not creating XLA devices, tf_xla_enable_xla_devices not set\n",
      "2021-04-06 15:36:48.100923: I tensorflow/core/common_runtime/gpu/gpu_device.cc:1261] Device interconnect StreamExecutor with strength 1 edge matrix:\n",
      "2021-04-06 15:36:48.100928: I tensorflow/core/common_runtime/gpu/gpu_device.cc:1267]      \n",
      "2021-04-06 15:36:48.580043: I tensorflow/compiler/mlir/mlir_graph_optimization_pass.cc:116] None of the MLIR optimization passes are enabled (registered 2)\n",
      "2021-04-06 15:36:48.580375: I tensorflow/core/platform/profile_utils/cpu_utils.cc:112] CPU Frequency: 3593255000 Hz\n",
      "Epoch 1/50\n",
      "140/140 - 8s - loss: 0.0022\n",
      "Epoch 2/50\n",
      "140/140 - 5s - loss: 0.0078\n",
      "Epoch 3/50\n",
      "140/140 - 5s - loss: 0.0081\n",
      "Epoch 4/50\n",
      "140/140 - 5s - loss: 0.0105\n",
      "Epoch 5/50\n",
      "140/140 - 5s - loss: 0.0134\n",
      "Epoch 6/50\n",
      "140/140 - 5s - loss: 0.0159\n",
      "Epoch 7/50\n",
      "140/140 - 5s - loss: 0.0215\n",
      "Epoch 8/50\n",
      "140/140 - 5s - loss: 0.0465\n",
      "Epoch 9/50\n",
      "140/140 - 5s - loss: 0.0261\n",
      "Epoch 10/50\n",
      "140/140 - 5s - loss: 0.0406\n",
      "Epoch 11/50\n",
      "140/140 - 5s - loss: 0.0678\n",
      "Epoch 12/50\n",
      "140/140 - 5s - loss: 0.0567\n",
      "Epoch 13/50\n",
      "140/140 - 5s - loss: 0.0539\n",
      "Epoch 14/50\n",
      "140/140 - 5s - loss: 0.0533\n",
      "Epoch 15/50\n",
      "140/140 - 5s - loss: 0.0520\n",
      "Epoch 16/50\n",
      "140/140 - 5s - loss: 0.0517\n",
      "Epoch 17/50\n",
      "140/140 - 5s - loss: 0.0514\n",
      "Epoch 18/50\n",
      "140/140 - 5s - loss: 0.0511\n",
      "Epoch 19/50\n",
      "140/140 - 5s - loss: 0.0507\n",
      "Epoch 20/50\n",
      "140/140 - 5s - loss: 0.0503\n",
      "Epoch 21/50\n",
      "140/140 - 5s - loss: 0.0504\n",
      "Epoch 22/50\n",
      "140/140 - 5s - loss: 0.0509\n",
      "Epoch 23/50\n",
      "140/140 - 5s - loss: 0.0504\n",
      "Epoch 24/50\n",
      "140/140 - 5s - loss: 0.0502\n",
      "Epoch 25/50\n",
      "140/140 - 5s - loss: 0.0499\n",
      "Epoch 26/50\n",
      "140/140 - 5s - loss: 0.0499\n",
      "Epoch 27/50\n",
      "140/140 - 5s - loss: 0.0497\n",
      "Epoch 28/50\n",
      "140/140 - 5s - loss: 0.0484\n",
      "Epoch 29/50\n",
      "140/140 - 5s - loss: 0.0501\n",
      "Epoch 30/50\n",
      "140/140 - 5s - loss: 0.0488\n",
      "Epoch 31/50\n",
      "140/140 - 5s - loss: 0.0497\n",
      "Epoch 32/50\n",
      "140/140 - 5s - loss: 0.0492\n",
      "Epoch 33/50\n",
      "140/140 - 5s - loss: 0.0490\n",
      "Epoch 34/50\n",
      "140/140 - 5s - loss: 0.0488\n",
      "Epoch 35/50\n",
      "140/140 - 5s - loss: 0.0487\n",
      "Epoch 36/50\n",
      "140/140 - 5s - loss: 0.0487\n",
      "Epoch 37/50\n",
      "140/140 - 5s - loss: 0.0486\n",
      "Epoch 38/50\n",
      "140/140 - 5s - loss: 0.0486\n",
      "Epoch 39/50\n",
      "140/140 - 5s - loss: 0.0486\n",
      "Epoch 40/50\n",
      "140/140 - 5s - loss: 0.0486\n",
      "Epoch 41/50\n",
      "140/140 - 5s - loss: 0.0486\n",
      "Epoch 42/50\n",
      "140/140 - 5s - loss: 0.0486\n",
      "Epoch 43/50\n",
      "140/140 - 5s - loss: 0.0486\n",
      "Epoch 44/50\n",
      "140/140 - 5s - loss: 0.0485\n",
      "Epoch 45/50\n",
      "140/140 - 5s - loss: 0.0133\n",
      "Epoch 46/50\n",
      "140/140 - 5s - loss: 0.0189\n",
      "Epoch 47/50\n",
      "140/140 - 5s - loss: 0.0211\n",
      "Epoch 48/50\n",
      "140/140 - 5s - loss: 0.0162\n",
      "Epoch 49/50\n",
      "140/140 - 5s - loss: 0.0702\n",
      "Epoch 50/50\n",
      "140/140 - 5s - loss: 0.0649\n",
      "Test RMSE: 718.801\n",
      "Traceback (most recent call last):\n",
      "  File \"binance/src/lstm_run.py\", line 259, in <module>\n",
      "    main()\n",
      "  File \"binance/src/lstm_run.py\", line 226, in main\n",
      "    \"real\": data.close.iloc[:n_train_hours].tail(50).to_list(),\n",
      "NameError: name 'data' is not defined\n"
     ]
    }
   ],
   "source": [
    "!python binance/src/lstm_run.py"
   ]
  },
  {
   "cell_type": "code",
   "execution_count": null,
   "id": "greater-cornwall",
   "metadata": {},
   "outputs": [],
   "source": []
  }
 ],
 "metadata": {
  "kernelspec": {
   "display_name": "Python 3",
   "language": "python",
   "name": "python3"
  },
  "language_info": {
   "codemirror_mode": {
    "name": "ipython",
    "version": 3
   },
   "file_extension": ".py",
   "mimetype": "text/x-python",
   "name": "python",
   "nbconvert_exporter": "python",
   "pygments_lexer": "ipython3",
   "version": "3.8.8"
  }
 },
 "nbformat": 4,
 "nbformat_minor": 5
}
