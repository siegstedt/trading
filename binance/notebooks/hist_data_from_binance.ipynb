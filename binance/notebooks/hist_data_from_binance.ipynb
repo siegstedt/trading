{
 "cells": [
  {
   "cell_type": "markdown",
   "id": "reduced-length",
   "metadata": {},
   "source": [
    "## load config module\n",
    "\n",
    "Need to go this path because my config files are not stored in the same directory as the project code."
   ]
  },
  {
   "cell_type": "code",
   "execution_count": 21,
   "id": "widespread-compiler",
   "metadata": {},
   "outputs": [
    {
     "name": "stdout",
     "output_type": "stream",
     "text": [
      "Loaded KEY: J2EDR..., and  SECRECT: fERKk... .\n"
     ]
    }
   ],
   "source": [
    "# get config data\n",
    "import os\n",
    "import sys\n",
    "\n",
    "configfile = '~/projects/config/binance/config.py'\n",
    "sys.path.append(os.path.dirname(os.path.expanduser(configfile)))\n",
    "\n",
    "import config\n",
    "print(f\"Loaded KEY: {config.API_KEY[:5]}..., and  SECRECT: {config.API_SECRET[:5]}... .\")"
   ]
  },
  {
   "cell_type": "code",
   "execution_count": null,
   "id": "accomplished-subdivision",
   "metadata": {},
   "outputs": [],
   "source": []
  }
 ],
 "metadata": {
  "kernelspec": {
   "display_name": "Python 3",
   "language": "python",
   "name": "python3"
  },
  "language_info": {
   "codemirror_mode": {
    "name": "ipython",
    "version": 3
   },
   "file_extension": ".py",
   "mimetype": "text/x-python",
   "name": "python",
   "nbconvert_exporter": "python",
   "pygments_lexer": "ipython3",
   "version": "3.8.5"
  }
 },
 "nbformat": 4,
 "nbformat_minor": 5
}
