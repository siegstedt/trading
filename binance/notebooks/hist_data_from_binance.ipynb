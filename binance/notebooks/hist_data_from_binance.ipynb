{
 "cells": [
  {
   "cell_type": "markdown",
   "id": "designing-smile",
   "metadata": {},
   "source": [
    "# Get historical bars from the Binance API\n",
    "\n",
    "Content:\n",
    "\n",
    "- Load libraries\n",
    "- Function to get bars\n",
    "- Create a dataframe\n",
    "- Create a wrapper function\n",
    "- Visualize the data"
   ]
  },
  {
   "cell_type": "markdown",
   "id": "intended-postcard",
   "metadata": {},
   "source": [
    "## Load libraries\n",
    "\n",
    "First, we load some standard libraries to support the workflow."
   ]
  },
  {
   "cell_type": "code",
   "execution_count": 27,
   "id": "faced-nation",
   "metadata": {},
   "outputs": [],
   "source": [
    "# get standard libraries\n",
    "import requests                    # for \"get\" request to API\n",
    "import json                        # parse json into a list\n",
    "import pandas as pd                # working with data frames\n",
    "import datetime as dt              # working with dates\n",
    "import matplotlib.pyplot as plt    # plot data"
   ]
  },
  {
   "cell_type": "markdown",
   "id": "clinical-satellite",
   "metadata": {},
   "source": [
    "## Function to get bars\n",
    "\n",
    "Here we define our funtion to get historical bars data.\n",
    "\n",
    "Find the GitHub docs for the API here:\n",
    "https://github.com/binance/binance-spot-api-docs/blob/master/rest-api.md"
   ]
  },
  {
   "cell_type": "code",
   "execution_count": 54,
   "id": "latest-austria",
   "metadata": {
    "tags": []
   },
   "outputs": [],
   "source": [
    "def get_binance_bars(symbol, interval, start_time, end_time, limit=\"1000\"):\n",
    "    \"\"\"Get historical bars for a ticker from Binance\n",
    "    \n",
    "    Args:\n",
    "        symbol (str): Binance symbol\n",
    "        interval (str): Interval for historical data, e.g. '1h' for hourly bars\n",
    "        start_time (datetime object): Start time of history\n",
    "        end_time (datetime object): End time of history\n",
    "        limit (str): Limit of number of lines for data request, defaulted to 1000\n",
    "    \n",
    "    Returns:\n",
    "        df: pandas DataFrame object\n",
    "        \n",
    "    Exampls:\n",
    "        >>> get_binance_bars('ETHEUR', '1h', dt.datetime(2020, 1, 1), dt.datetime(2020, 2, 1))\n",
    "        \n",
    "    \"\"\"\n",
    "    \n",
    "    # define the binance url from data is requested\n",
    "    url = \"https://api.binance.com/api/v3/klines\"\n",
    "    \n",
    "    # setting request params\n",
    "    req_params = {'symbol': symbol,\n",
    "                  'interval': interval,\n",
    "                  'startTime': str(int(start_time.timestamp() * 1000)),\n",
    "                  'endTime' : str(int(end_time.timestamp() * 1000)),\n",
    "                  'limit' : str(limit)}\n",
    " \n",
    "    # load request into a dataframe\n",
    "    df = pd.DataFrame(json.loads(requests.get(url, params = req_params).text))\n",
    "    if (len(df.index) == 0):\n",
    "        return None     \n",
    "    \n",
    "    # transfrom dataframe\n",
    "    df = df.iloc[:, 0:6]  # extract \n",
    "    df.columns = ['datetime', 'open', 'high', 'low', 'close', 'volume'] \n",
    "    df.open = df.open.astype(\"float\")\n",
    "    df.high = df.high.astype(\"float\")\n",
    "    df.low = df.low.astype(\"float\")\n",
    "    df.close = df.close.astype(\"float\")\n",
    "    df.volume = df.volume.astype(\"float\")\n",
    "    df.index = [dt.datetime.fromtimestamp(x / 1000.0) for x in df.datetime]\n",
    " \n",
    "    return df"
   ]
  },
  {
   "cell_type": "code",
   "execution_count": 115,
   "id": "separate-arizona",
   "metadata": {},
   "outputs": [
    {
     "data": {
      "text/html": [
       "<div>\n",
       "<style scoped>\n",
       "    .dataframe tbody tr th:only-of-type {\n",
       "        vertical-align: middle;\n",
       "    }\n",
       "\n",
       "    .dataframe tbody tr th {\n",
       "        vertical-align: top;\n",
       "    }\n",
       "\n",
       "    .dataframe thead th {\n",
       "        text-align: right;\n",
       "    }\n",
       "</style>\n",
       "<table border=\"1\" class=\"dataframe\">\n",
       "  <thead>\n",
       "    <tr style=\"text-align: right;\">\n",
       "      <th></th>\n",
       "      <th>datetime</th>\n",
       "      <th>open</th>\n",
       "      <th>high</th>\n",
       "      <th>low</th>\n",
       "      <th>close</th>\n",
       "      <th>volume</th>\n",
       "    </tr>\n",
       "  </thead>\n",
       "  <tbody>\n",
       "    <tr>\n",
       "      <th>2020-01-03 09:00:00</th>\n",
       "      <td>1578038400000</td>\n",
       "      <td>113.80</td>\n",
       "      <td>115.40</td>\n",
       "      <td>113.80</td>\n",
       "      <td>115.40</td>\n",
       "      <td>1.10270</td>\n",
       "    </tr>\n",
       "    <tr>\n",
       "      <th>2020-01-03 10:00:00</th>\n",
       "      <td>1578042000000</td>\n",
       "      <td>118.46</td>\n",
       "      <td>118.46</td>\n",
       "      <td>118.46</td>\n",
       "      <td>118.46</td>\n",
       "      <td>0.50000</td>\n",
       "    </tr>\n",
       "    <tr>\n",
       "      <th>2020-01-03 11:00:00</th>\n",
       "      <td>1578045600000</td>\n",
       "      <td>118.06</td>\n",
       "      <td>118.06</td>\n",
       "      <td>118.02</td>\n",
       "      <td>118.02</td>\n",
       "      <td>1.33288</td>\n",
       "    </tr>\n",
       "    <tr>\n",
       "      <th>2020-01-03 12:00:00</th>\n",
       "      <td>1578049200000</td>\n",
       "      <td>118.40</td>\n",
       "      <td>118.40</td>\n",
       "      <td>118.40</td>\n",
       "      <td>118.40</td>\n",
       "      <td>0.08539</td>\n",
       "    </tr>\n",
       "    <tr>\n",
       "      <th>2020-01-03 13:00:00</th>\n",
       "      <td>1578052800000</td>\n",
       "      <td>118.40</td>\n",
       "      <td>118.40</td>\n",
       "      <td>118.40</td>\n",
       "      <td>118.40</td>\n",
       "      <td>0.00000</td>\n",
       "    </tr>\n",
       "  </tbody>\n",
       "</table>\n",
       "</div>"
      ],
      "text/plain": [
       "                          datetime    open    high     low   close   volume\n",
       "2020-01-03 09:00:00  1578038400000  113.80  115.40  113.80  115.40  1.10270\n",
       "2020-01-03 10:00:00  1578042000000  118.46  118.46  118.46  118.46  0.50000\n",
       "2020-01-03 11:00:00  1578045600000  118.06  118.06  118.02  118.02  1.33288\n",
       "2020-01-03 12:00:00  1578049200000  118.40  118.40  118.40  118.40  0.08539\n",
       "2020-01-03 13:00:00  1578052800000  118.40  118.40  118.40  118.40  0.00000"
      ]
     },
     "execution_count": 115,
     "metadata": {},
     "output_type": "execute_result"
    }
   ],
   "source": [
    "# testing the function call\n",
    "df = get_binance_bars('ETHEUR', '1h', dt.datetime(2020, 1, 1), dt.datetime(2020, 3, 1))\n",
    "df.head()"
   ]
  },
  {
   "cell_type": "code",
   "execution_count": 61,
   "id": "hollow-physics",
   "metadata": {},
   "outputs": [
    {
     "data": {
      "text/plain": [
       "<AxesSubplot:>"
      ]
     },
     "execution_count": 61,
     "metadata": {},
     "output_type": "execute_result"
    },
    {
     "data": {
      "image/png": "[encoded data removed]",
      "text/plain": [
       "<Figure size 432x288 with 1 Axes>"
      ]
     },
     "metadata": {
      "needs_background": "light"
     },
     "output_type": "display_data"
    }
   ],
   "source": [
    "# check a visual for the data\n",
    "df['close'].plot()"
   ]
  },
  {
   "cell_type": "markdown",
   "id": "expected-malaysia",
   "metadata": {},
   "source": [
    "## Create a dataframe\n",
    "\n",
    "As we only request a limited number of lines per API call, we create an iteration of calls that append data into a dataframe.\n",
    "\n",
    "We want to write a process that load us data for multiple months in multiple years, for instance from 2019-10-01 to 2021-02-28."
   ]
  },
  {
   "cell_type": "code",
   "execution_count": 140,
   "id": "prostate-grammar",
   "metadata": {
    "tags": []
   },
   "outputs": [],
   "source": [
    "# pick up start and end days\n",
    "def generate_dates_list(start_date, end_date):\n",
    "    \"\"\"Generate a list of dates in daily interval\n",
    "    \n",
    "    Args:\n",
    "        start_date (datetime object): start time as datetime object\n",
    "        end_date (datetime object): end time as datetime object\n",
    "        \n",
    "    Returns:\n",
    "        dates (list of datetime of objects): list of datetime objects in daily intervals\n",
    "\n",
    "    Example:\n",
    "        >>>generate_dates_list(dt.datetime(2020,12,31), dt.datetime(2021,1,1))\n",
    "        [datetime.datetime(2020, 12, 31, 0, 0), datetime.datetime(2021, 1, 1, 0, 0)]\n",
    "    \"\"\"\n",
    "    # count number of days between start and end\n",
    "    nr_days = int(str((end_date - start_date).days))\n",
    "\n",
    "    # prepare a list of dates for data retrieval\n",
    "    dates = [start_date]\n",
    "    for i in range(0, nr_days):\n",
    "        start_date += dt.timedelta(days=1)\n",
    "        dates.append(start_date)\n",
    "    \n",
    "    return dates\n",
    "\n",
    "dates = generate_dates_list(dt.datetime(2019,10,1), dt.datetime(2021,2,28))"
   ]
  },
  {
   "cell_type": "code",
   "execution_count": 107,
   "id": "flexible-notion",
   "metadata": {},
   "outputs": [],
   "source": [
    "# Call the function for every day\n",
    "df_list = [get_binance_bars\n",
    "           (\n",
    "               symbol = 'ETHUSDT',\n",
    "               interval = '1h',\n",
    "               start_time = date,\n",
    "               end_time = date + dt.timedelta(days=1) - dt.timedelta(seconds=1)\n",
    "           )\n",
    "           for date\n",
    "           in dates]"
   ]
  },
  {
   "cell_type": "code",
   "execution_count": 108,
   "id": "controlled-campaign",
   "metadata": {},
   "outputs": [
    {
     "data": {
      "text/plain": [
       "(12387, 6)"
      ]
     },
     "execution_count": 108,
     "metadata": {},
     "output_type": "execute_result"
    }
   ],
   "source": [
    "# Concatenate list of dfs in 1 df\n",
    "DF = pd.concat(df_list)\n",
    "DF.shape"
   ]
  },
  {
   "cell_type": "code",
   "execution_count": 116,
   "id": "alpine-border",
   "metadata": {},
   "outputs": [
    {
     "data": {
      "text/html": [
       "<div>\n",
       "<style scoped>\n",
       "    .dataframe tbody tr th:only-of-type {\n",
       "        vertical-align: middle;\n",
       "    }\n",
       "\n",
       "    .dataframe tbody tr th {\n",
       "        vertical-align: top;\n",
       "    }\n",
       "\n",
       "    .dataframe thead th {\n",
       "        text-align: right;\n",
       "    }\n",
       "</style>\n",
       "<table border=\"1\" class=\"dataframe\">\n",
       "  <thead>\n",
       "    <tr style=\"text-align: right;\">\n",
       "      <th></th>\n",
       "      <th>datetime</th>\n",
       "      <th>open</th>\n",
       "      <th>high</th>\n",
       "      <th>low</th>\n",
       "      <th>close</th>\n",
       "      <th>volume</th>\n",
       "    </tr>\n",
       "  </thead>\n",
       "  <tbody>\n",
       "    <tr>\n",
       "      <th>2019-10-01 00:00:00</th>\n",
       "      <td>1569880800000</td>\n",
       "      <td>177.26</td>\n",
       "      <td>178.55</td>\n",
       "      <td>176.92</td>\n",
       "      <td>177.03</td>\n",
       "      <td>9205.65198</td>\n",
       "    </tr>\n",
       "    <tr>\n",
       "      <th>2019-10-01 01:00:00</th>\n",
       "      <td>1569884400000</td>\n",
       "      <td>177.04</td>\n",
       "      <td>181.24</td>\n",
       "      <td>177.02</td>\n",
       "      <td>180.85</td>\n",
       "      <td>23746.34438</td>\n",
       "    </tr>\n",
       "    <tr>\n",
       "      <th>2019-10-01 02:00:00</th>\n",
       "      <td>1569888000000</td>\n",
       "      <td>180.89</td>\n",
       "      <td>181.42</td>\n",
       "      <td>178.11</td>\n",
       "      <td>178.68</td>\n",
       "      <td>26745.60752</td>\n",
       "    </tr>\n",
       "    <tr>\n",
       "      <th>2019-10-01 03:00:00</th>\n",
       "      <td>1569891600000</td>\n",
       "      <td>178.67</td>\n",
       "      <td>182.14</td>\n",
       "      <td>177.75</td>\n",
       "      <td>181.39</td>\n",
       "      <td>32308.79538</td>\n",
       "    </tr>\n",
       "    <tr>\n",
       "      <th>2019-10-01 04:00:00</th>\n",
       "      <td>1569895200000</td>\n",
       "      <td>181.40</td>\n",
       "      <td>184.30</td>\n",
       "      <td>181.36</td>\n",
       "      <td>183.55</td>\n",
       "      <td>46645.70800</td>\n",
       "    </tr>\n",
       "  </tbody>\n",
       "</table>\n",
       "</div>"
      ],
      "text/plain": [
       "                          datetime    open    high     low   close  \\\n",
       "2019-10-01 00:00:00  1569880800000  177.26  178.55  176.92  177.03   \n",
       "2019-10-01 01:00:00  1569884400000  177.04  181.24  177.02  180.85   \n",
       "2019-10-01 02:00:00  1569888000000  180.89  181.42  178.11  178.68   \n",
       "2019-10-01 03:00:00  1569891600000  178.67  182.14  177.75  181.39   \n",
       "2019-10-01 04:00:00  1569895200000  181.40  184.30  181.36  183.55   \n",
       "\n",
       "                          volume  \n",
       "2019-10-01 00:00:00   9205.65198  \n",
       "2019-10-01 01:00:00  23746.34438  \n",
       "2019-10-01 02:00:00  26745.60752  \n",
       "2019-10-01 03:00:00  32308.79538  \n",
       "2019-10-01 04:00:00  46645.70800  "
      ]
     },
     "execution_count": 116,
     "metadata": {},
     "output_type": "execute_result"
    }
   ],
   "source": [
    "DF.head()"
   ]
  },
  {
   "cell_type": "markdown",
   "id": "surprised-music",
   "metadata": {},
   "source": [
    "## Create a wrapper function\n",
    "\n",
    "Let's bring it all together and put all the retrieval functionality in one function call."
   ]
  },
  {
   "cell_type": "code",
   "execution_count": 117,
   "id": "urban-kazakhstan",
   "metadata": {
    "tags": []
   },
   "outputs": [
    {
     "data": {
      "text/html": [
       "<div>\n",
       "<style scoped>\n",
       "    .dataframe tbody tr th:only-of-type {\n",
       "        vertical-align: middle;\n",
       "    }\n",
       "\n",
       "    .dataframe tbody tr th {\n",
       "        vertical-align: top;\n",
       "    }\n",
       "\n",
       "    .dataframe thead th {\n",
       "        text-align: right;\n",
       "    }\n",
       "</style>\n",
       "<table border=\"1\" class=\"dataframe\">\n",
       "  <thead>\n",
       "    <tr style=\"text-align: right;\">\n",
       "      <th></th>\n",
       "      <th>datetime</th>\n",
       "      <th>open</th>\n",
       "      <th>high</th>\n",
       "      <th>low</th>\n",
       "      <th>close</th>\n",
       "      <th>volume</th>\n",
       "    </tr>\n",
       "  </thead>\n",
       "  <tbody>\n",
       "    <tr>\n",
       "      <th>2021-01-01 00:00:00</th>\n",
       "      <td>1609455600000</td>\n",
       "      <td>605.75</td>\n",
       "      <td>606.58</td>\n",
       "      <td>601.49</td>\n",
       "      <td>603.38</td>\n",
       "      <td>868.47445</td>\n",
       "    </tr>\n",
       "    <tr>\n",
       "      <th>2021-01-01 01:00:00</th>\n",
       "      <td>1609459200000</td>\n",
       "      <td>603.25</td>\n",
       "      <td>605.76</td>\n",
       "      <td>599.52</td>\n",
       "      <td>601.81</td>\n",
       "      <td>1460.20282</td>\n",
       "    </tr>\n",
       "    <tr>\n",
       "      <th>2021-01-01 02:00:00</th>\n",
       "      <td>1609462800000</td>\n",
       "      <td>601.77</td>\n",
       "      <td>610.76</td>\n",
       "      <td>601.33</td>\n",
       "      <td>610.36</td>\n",
       "      <td>1468.92626</td>\n",
       "    </tr>\n",
       "    <tr>\n",
       "      <th>2021-01-01 03:00:00</th>\n",
       "      <td>1609466400000</td>\n",
       "      <td>610.49</td>\n",
       "      <td>611.00</td>\n",
       "      <td>605.86</td>\n",
       "      <td>606.75</td>\n",
       "      <td>647.21461</td>\n",
       "    </tr>\n",
       "    <tr>\n",
       "      <th>2021-01-01 04:00:00</th>\n",
       "      <td>1609470000000</td>\n",
       "      <td>606.82</td>\n",
       "      <td>609.08</td>\n",
       "      <td>606.10</td>\n",
       "      <td>607.50</td>\n",
       "      <td>140.36287</td>\n",
       "    </tr>\n",
       "  </tbody>\n",
       "</table>\n",
       "</div>"
      ],
      "text/plain": [
       "                          datetime    open    high     low   close      volume\n",
       "2021-01-01 00:00:00  1609455600000  605.75  606.58  601.49  603.38   868.47445\n",
       "2021-01-01 01:00:00  1609459200000  603.25  605.76  599.52  601.81  1460.20282\n",
       "2021-01-01 02:00:00  1609462800000  601.77  610.76  601.33  610.36  1468.92626\n",
       "2021-01-01 03:00:00  1609466400000  610.49  611.00  605.86  606.75   647.21461\n",
       "2021-01-01 04:00:00  1609470000000  606.82  609.08  606.10  607.50   140.36287"
      ]
     },
     "execution_count": 117,
     "metadata": {},
     "output_type": "execute_result"
    }
   ],
   "source": [
    "def prepare_data(symbol, interval, start_time, end_time):\n",
    "    # generate list of dates\n",
    "    dates = generate_dates_list(start_time, end_time)\n",
    "    \n",
    "    # store data in a list of data frames\n",
    "    df_list = [get_binance_bars\n",
    "               (\n",
    "                   symbol = symbol,\n",
    "                   interval = interval,\n",
    "                   start_time = date,\n",
    "                   end_time = date + dt.timedelta(days=1) - dt.timedelta(seconds=1)\n",
    "               )\n",
    "               for date\n",
    "               in dates]\n",
    "    # Concatenate list of dfs in 1 df\n",
    "    df = pd.concat(df_list)\n",
    "    \n",
    "    return df\n",
    "\n",
    "eth_data = prepare_data(\"ETHEUR\", \"1h\", dt.datetime(2021,1,1), dt.datetime(2021,1,10))\n",
    "eth_data.head()"
   ]
  },
  {
   "cell_type": "markdown",
   "id": "timely-packing",
   "metadata": {},
   "source": [
    "## Plot the data"
   ]
  },
  {
   "cell_type": "code",
   "execution_count": 130,
   "id": "beautiful-adjustment",
   "metadata": {},
   "outputs": [
    {
     "data": {
      "text/plain": [
       "<AxesSubplot:>"
      ]
     },
     "execution_count": 130,
     "metadata": {},
     "output_type": "execute_result"
    },
    {
     "data": {
      "image/png": "[encoded data removed]",
      "text/plain": [
       "<Figure size 432x288 with 1 Axes>"
      ]
     },
     "metadata": {
      "needs_background": "light"
     },
     "output_type": "display_data"
    }
   ],
   "source": [
    "eth_data['close'].plot()"
   ]
  },
  {
   "cell_type": "markdown",
   "id": "employed-newcastle",
   "metadata": {},
   "source": [
    "## Export data into a file"
   ]
  },
  {
   "cell_type": "code",
   "execution_count": 133,
   "id": "choice-telephone",
   "metadata": {},
   "outputs": [],
   "source": [
    "# retrieve data\n",
    "eth_data = prepare_data(\"ETHEUR\", \"1h\", dt.datetime(2020,3,1), dt.datetime(2021,2,28))\n",
    "\n",
    "# export\n",
    "eth_data.to_csv(\"../data/etheur_2020-03_2021-02_1h.csv\")"
   ]
  },
  {
   "cell_type": "code",
   "execution_count": 135,
   "id": "rocky-schedule",
   "metadata": {},
   "outputs": [],
   "source": [
    "# Run process in a loop\n",
    "symbols = [\"ETHEUR\", \"BTCEUR\", \"LTCEUR\"]\n",
    "\n",
    "for symbol in symbols:\n",
    "    # retrieve data\n",
    "    data = prepare_data(symbol, \"1h\", dt.datetime(2020,3,1), dt.datetime(2021,2,28))\n",
    "    \n",
    "    # store data\n",
    "    filepath = f\"../data/{symbol.lower()}_2020-03_2021-02_1h.csv\"\n",
    "    data.to_csv(filepath)"
   ]
  },
  {
   "cell_type": "code",
   "execution_count": null,
   "id": "center-jackson",
   "metadata": {},
   "outputs": [],
   "source": []
  }
 ],
 "metadata": {
  "kernelspec": {
   "display_name": "Python 3",
   "language": "python",
   "name": "python3"
  },
  "language_info": {
   "codemirror_mode": {
    "name": "ipython",
    "version": 3
   },
   "file_extension": ".py",
   "mimetype": "text/x-python",
   "name": "python",
   "nbconvert_exporter": "python",
   "pygments_lexer": "ipython3",
   "version": "3.8.8"
  }
 },
 "nbformat": 4,
 "nbformat_minor": 5
}
