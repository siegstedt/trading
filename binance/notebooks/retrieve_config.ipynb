{
 "cells": [
  {
   "cell_type": "markdown",
   "id": "authorized-company",
   "metadata": {},
   "source": [
    "# Retrieve config file\n",
    "\n",
    "I need to go this way because my config files are not stored in the same directory as the project code for privacy reasons."
   ]
  },
  {
   "cell_type": "code",
   "execution_count": 1,
   "id": "respected-dialogue",
   "metadata": {},
   "outputs": [
    {
     "name": "stdout",
     "output_type": "stream",
     "text": [
      "Loaded KEY: 'J2EDR...', and  SECRECT: 'fERKk...'.\n"
     ]
    }
   ],
   "source": [
    "# import modules to navigate on my machine\n",
    "import os\n",
    "import sys\n",
    "\n",
    "# append path of config file to user path\n",
    "configfile = '~/projects/admin/binance/config.py'\n",
    "sys.path.append(os.path.dirname(os.path.expanduser(configfile)))\n",
    "\n",
    "# import the module\n",
    "import config\n",
    "print(f\"Loaded KEY: '{config.API_KEY[:5]}...', and  SECRECT: '{config.API_SECRET[:5]}...'.\")"
   ]
  }
 ],
 "metadata": {
  "kernelspec": {
   "display_name": "Python 3",
   "language": "python",
   "name": "python3"
  },
  "language_info": {
   "codemirror_mode": {
    "name": "ipython",
    "version": 3
   },
   "file_extension": ".py",
   "mimetype": "text/x-python",
   "name": "python",
   "nbconvert_exporter": "python",
   "pygments_lexer": "ipython3",
   "version": "3.8.5"
  }
 },
 "nbformat": 4,
 "nbformat_minor": 5
}
