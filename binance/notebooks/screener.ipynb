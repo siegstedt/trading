{
 "cells": [
  {
   "cell_type": "markdown",
   "id": "verified-scientist",
   "metadata": {},
   "source": [
    "# screener"
   ]
  },
  {
   "cell_type": "code",
   "execution_count": 2,
   "id": "available-auction",
   "metadata": {},
   "outputs": [
    {
     "name": "stdout",
     "output_type": "stream",
     "text": [
      "/Users/siegstedt/projects/trading/binance\n"
     ]
    }
   ],
   "source": [
    "import os\n",
    "os.chdir('/Users/siegstedt/projects/trading/binance')\n",
    "!pwd"
   ]
  },
  {
   "cell_type": "markdown",
   "id": "illegal-kazakhstan",
   "metadata": {},
   "source": [
    "#### request all tickers"
   ]
  },
  {
   "cell_type": "code",
   "execution_count": 58,
   "id": "bottom-metadata",
   "metadata": {},
   "outputs": [],
   "source": [
    "import requests\n",
    "import json\n",
    "import pandas as pd\n",
    "import numpy as np\n",
    "import datetime as dt"
   ]
  },
  {
   "cell_type": "code",
   "execution_count": 31,
   "id": "appointed-singapore",
   "metadata": {},
   "outputs": [],
   "source": [
    "# load raw data from api\n",
    "url = \"https://api.binance.com/api/v3/ticker/price\"\n",
    "df = pd.DataFrame(json.loads(requests.get(url).text))\n",
    "\n",
    "# get BTC and EUR markets\n",
    "df['market'] = [\n",
    "    i[-3:] if i[-3:] in ['BTC','EUR'] else np.nan\n",
    "    for i \n",
    "    in df['symbol']\n",
    "]\n",
    "\n",
    "# filter out other markets\n",
    "df = df.dropna().reset_index(drop=True)"
   ]
  },
  {
   "cell_type": "code",
   "execution_count": 33,
   "id": "suburban-headquarters",
   "metadata": {},
   "outputs": [
    {
     "data": {
      "text/html": [
       "<div>\n",
       "<style scoped>\n",
       "    .dataframe tbody tr th:only-of-type {\n",
       "        vertical-align: middle;\n",
       "    }\n",
       "\n",
       "    .dataframe tbody tr th {\n",
       "        vertical-align: top;\n",
       "    }\n",
       "\n",
       "    .dataframe thead th {\n",
       "        text-align: right;\n",
       "    }\n",
       "</style>\n",
       "<table border=\"1\" class=\"dataframe\">\n",
       "  <thead>\n",
       "    <tr style=\"text-align: right;\">\n",
       "      <th></th>\n",
       "      <th>symbol</th>\n",
       "      <th>price</th>\n",
       "      <th>market</th>\n",
       "    </tr>\n",
       "  </thead>\n",
       "  <tbody>\n",
       "    <tr>\n",
       "      <th>0</th>\n",
       "      <td>ETHBTC</td>\n",
       "      <td>0.03518300</td>\n",
       "      <td>BTC</td>\n",
       "    </tr>\n",
       "    <tr>\n",
       "      <th>1</th>\n",
       "      <td>LTCBTC</td>\n",
       "      <td>0.00389600</td>\n",
       "      <td>BTC</td>\n",
       "    </tr>\n",
       "    <tr>\n",
       "      <th>2</th>\n",
       "      <td>BNBBTC</td>\n",
       "      <td>0.00668420</td>\n",
       "      <td>BTC</td>\n",
       "    </tr>\n",
       "    <tr>\n",
       "      <th>3</th>\n",
       "      <td>NEOBTC</td>\n",
       "      <td>0.00106500</td>\n",
       "      <td>BTC</td>\n",
       "    </tr>\n",
       "    <tr>\n",
       "      <th>4</th>\n",
       "      <td>BCCBTC</td>\n",
       "      <td>0.07908100</td>\n",
       "      <td>BTC</td>\n",
       "    </tr>\n",
       "    <tr>\n",
       "      <th>...</th>\n",
       "      <td>...</td>\n",
       "      <td>...</td>\n",
       "      <td>...</td>\n",
       "    </tr>\n",
       "    <tr>\n",
       "      <th>332</th>\n",
       "      <td>LUNAEUR</td>\n",
       "      <td>12.78900000</td>\n",
       "      <td>EUR</td>\n",
       "    </tr>\n",
       "    <tr>\n",
       "      <th>333</th>\n",
       "      <td>THETAEUR</td>\n",
       "      <td>10.22600000</td>\n",
       "      <td>EUR</td>\n",
       "    </tr>\n",
       "    <tr>\n",
       "      <th>334</th>\n",
       "      <td>EPSBTC</td>\n",
       "      <td>0.00006389</td>\n",
       "      <td>BTC</td>\n",
       "    </tr>\n",
       "    <tr>\n",
       "      <th>335</th>\n",
       "      <td>AUTOBTC</td>\n",
       "      <td>0.06058000</td>\n",
       "      <td>BTC</td>\n",
       "    </tr>\n",
       "    <tr>\n",
       "      <th>336</th>\n",
       "      <td>TKOBTC</td>\n",
       "      <td>0.00005309</td>\n",
       "      <td>BTC</td>\n",
       "    </tr>\n",
       "  </tbody>\n",
       "</table>\n",
       "<p>337 rows × 3 columns</p>\n",
       "</div>"
      ],
      "text/plain": [
       "       symbol        price market\n",
       "0      ETHBTC   0.03518300    BTC\n",
       "1      LTCBTC   0.00389600    BTC\n",
       "2      BNBBTC   0.00668420    BTC\n",
       "3      NEOBTC   0.00106500    BTC\n",
       "4      BCCBTC   0.07908100    BTC\n",
       "..        ...          ...    ...\n",
       "332   LUNAEUR  12.78900000    EUR\n",
       "333  THETAEUR  10.22600000    EUR\n",
       "334    EPSBTC   0.00006389    BTC\n",
       "335   AUTOBTC   0.06058000    BTC\n",
       "336    TKOBTC   0.00005309    BTC\n",
       "\n",
       "[337 rows x 3 columns]"
      ]
     },
     "execution_count": 33,
     "metadata": {},
     "output_type": "execute_result"
    }
   ],
   "source": [
    "# inspect dataframe\n",
    "df"
   ]
  },
  {
   "cell_type": "code",
   "execution_count": 36,
   "id": "professional-action",
   "metadata": {},
   "outputs": [
    {
     "data": {
      "text/plain": [
       "['ETHBTC', 'LTCBTC', 'BNBBTC', 'NEOBTC', 'BCCBTC']"
      ]
     },
     "execution_count": 36,
     "metadata": {},
     "output_type": "execute_result"
    }
   ],
   "source": [
    "# extract list of symbols\n",
    "symbols = df.symbol.to_list()\n",
    "# inspect\n",
    "symbols[:5]"
   ]
  },
  {
   "cell_type": "markdown",
   "id": "vertical-billy",
   "metadata": {},
   "source": [
    "#### request short-term data for symbol"
   ]
  },
  {
   "cell_type": "code",
   "execution_count": 59,
   "id": "rising-deployment",
   "metadata": {},
   "outputs": [],
   "source": [
    "def get_binance_bars(symbol, interval, start_time, end_time, limit=\"1000\"):\n",
    "    \"\"\"Get historical bars for a ticker from Binance\n",
    "    \n",
    "    Args:\n",
    "        symbol (str): Binance symbol\n",
    "        interval (str): Interval for historical data, e.g. '1h' for hourly bars\n",
    "        start_time (datetime object): Start time of history\n",
    "        end_time (datetime object): End time of history\n",
    "        limit (str): Limit of number of lines for data request, defaulted to 1000\n",
    "    \n",
    "    Returns:\n",
    "        df: pandas DataFrame object\n",
    "        \n",
    "    Exampls:\n",
    "        >>> get_binance_bars('ETHEUR', '1h', dt.datetime(2020, 1, 1), dt.datetime(2020, 2, 1))\n",
    "        \n",
    "    \"\"\"\n",
    "    \n",
    "    # define the binance url from data is requested\n",
    "    url = \"https://api.binance.com/api/v3/klines\"\n",
    "    \n",
    "    # setting request params\n",
    "    req_params = {'symbol': symbol,\n",
    "                  'interval': interval,\n",
    "                  'startTime': str(int(start_time.timestamp() * 1000)),\n",
    "                  'endTime' : str(int(end_time.timestamp() * 1000)),\n",
    "                  'limit' : str(limit)}\n",
    " \n",
    "    # load request into a dataframe\n",
    "    df = pd.DataFrame(json.loads(requests.get(url, params = req_params).text))\n",
    "    if (len(df.index) == 0):\n",
    "        return None     \n",
    "    \n",
    "    # transfrom dataframe\n",
    "    df = df.iloc[:, 0:6]  # extract \n",
    "    df.columns = ['datetime', 'open', 'high', 'low', 'close', 'volume'] \n",
    "    df.open = df.open.astype(\"float\")\n",
    "    df.high = df.high.astype(\"float\")\n",
    "    df.low = df.low.astype(\"float\")\n",
    "    df.close = df.close.astype(\"float\")\n",
    "    df.volume = df.volume.astype(\"float\")\n",
    "    df.index = [dt.datetime.fromtimestamp(x / 1000.0) for x in df.datetime]\n",
    " \n",
    "    return df"
   ]
  },
  {
   "cell_type": "code",
   "execution_count": 60,
   "id": "solved-blank",
   "metadata": {},
   "outputs": [],
   "source": [
    "# get data for last hour in 5 minute intervals\n",
    "symbol = symbols[0]\n",
    "end_time = dt.datetime.now()\n",
    "start_time = dt.datetime.now() - dt.timedelta(seconds=60*60)\n",
    "\n",
    "# request data\n",
    "df = get_binance_bars(symbol, '5m', start_time, end_time)"
   ]
  },
  {
   "cell_type": "code",
   "execution_count": 63,
   "id": "rolled-treasure",
   "metadata": {},
   "outputs": [
    {
     "data": {
      "text/html": [
       "<div>\n",
       "<style scoped>\n",
       "    .dataframe tbody tr th:only-of-type {\n",
       "        vertical-align: middle;\n",
       "    }\n",
       "\n",
       "    .dataframe tbody tr th {\n",
       "        vertical-align: top;\n",
       "    }\n",
       "\n",
       "    .dataframe thead th {\n",
       "        text-align: right;\n",
       "    }\n",
       "</style>\n",
       "<table border=\"1\" class=\"dataframe\">\n",
       "  <thead>\n",
       "    <tr style=\"text-align: right;\">\n",
       "      <th></th>\n",
       "      <th>datetime</th>\n",
       "      <th>open</th>\n",
       "      <th>high</th>\n",
       "      <th>low</th>\n",
       "      <th>close</th>\n",
       "      <th>volume</th>\n",
       "    </tr>\n",
       "  </thead>\n",
       "  <tbody>\n",
       "    <tr>\n",
       "      <th>2021-04-07 20:00:00</th>\n",
       "      <td>1617818400000</td>\n",
       "      <td>0.035088</td>\n",
       "      <td>0.035195</td>\n",
       "      <td>0.035044</td>\n",
       "      <td>0.035192</td>\n",
       "      <td>1111.029</td>\n",
       "    </tr>\n",
       "    <tr>\n",
       "      <th>2021-04-07 20:05:00</th>\n",
       "      <td>1617818700000</td>\n",
       "      <td>0.035195</td>\n",
       "      <td>0.035253</td>\n",
       "      <td>0.035193</td>\n",
       "      <td>0.035241</td>\n",
       "      <td>654.337</td>\n",
       "    </tr>\n",
       "    <tr>\n",
       "      <th>2021-04-07 20:10:00</th>\n",
       "      <td>1617819000000</td>\n",
       "      <td>0.035240</td>\n",
       "      <td>0.035305</td>\n",
       "      <td>0.035230</td>\n",
       "      <td>0.035269</td>\n",
       "      <td>718.911</td>\n",
       "    </tr>\n",
       "    <tr>\n",
       "      <th>2021-04-07 20:15:00</th>\n",
       "      <td>1617819300000</td>\n",
       "      <td>0.035270</td>\n",
       "      <td>0.035327</td>\n",
       "      <td>0.035251</td>\n",
       "      <td>0.035262</td>\n",
       "      <td>690.344</td>\n",
       "    </tr>\n",
       "    <tr>\n",
       "      <th>2021-04-07 20:20:00</th>\n",
       "      <td>1617819600000</td>\n",
       "      <td>0.035263</td>\n",
       "      <td>0.035263</td>\n",
       "      <td>0.035172</td>\n",
       "      <td>0.035178</td>\n",
       "      <td>684.590</td>\n",
       "    </tr>\n",
       "    <tr>\n",
       "      <th>2021-04-07 20:25:00</th>\n",
       "      <td>1617819900000</td>\n",
       "      <td>0.035181</td>\n",
       "      <td>0.035220</td>\n",
       "      <td>0.035131</td>\n",
       "      <td>0.035143</td>\n",
       "      <td>677.575</td>\n",
       "    </tr>\n",
       "    <tr>\n",
       "      <th>2021-04-07 20:30:00</th>\n",
       "      <td>1617820200000</td>\n",
       "      <td>0.035151</td>\n",
       "      <td>0.035175</td>\n",
       "      <td>0.035110</td>\n",
       "      <td>0.035138</td>\n",
       "      <td>672.278</td>\n",
       "    </tr>\n",
       "    <tr>\n",
       "      <th>2021-04-07 20:35:00</th>\n",
       "      <td>1617820500000</td>\n",
       "      <td>0.035140</td>\n",
       "      <td>0.035212</td>\n",
       "      <td>0.035126</td>\n",
       "      <td>0.035154</td>\n",
       "      <td>646.707</td>\n",
       "    </tr>\n",
       "    <tr>\n",
       "      <th>2021-04-07 20:40:00</th>\n",
       "      <td>1617820800000</td>\n",
       "      <td>0.035154</td>\n",
       "      <td>0.035259</td>\n",
       "      <td>0.035130</td>\n",
       "      <td>0.035236</td>\n",
       "      <td>755.288</td>\n",
       "    </tr>\n",
       "    <tr>\n",
       "      <th>2021-04-07 20:45:00</th>\n",
       "      <td>1617821100000</td>\n",
       "      <td>0.035235</td>\n",
       "      <td>0.035238</td>\n",
       "      <td>0.035148</td>\n",
       "      <td>0.035190</td>\n",
       "      <td>682.983</td>\n",
       "    </tr>\n",
       "    <tr>\n",
       "      <th>2021-04-07 20:50:00</th>\n",
       "      <td>1617821400000</td>\n",
       "      <td>0.035190</td>\n",
       "      <td>0.035229</td>\n",
       "      <td>0.035168</td>\n",
       "      <td>0.035193</td>\n",
       "      <td>561.327</td>\n",
       "    </tr>\n",
       "    <tr>\n",
       "      <th>2021-04-07 20:55:00</th>\n",
       "      <td>1617821700000</td>\n",
       "      <td>0.035193</td>\n",
       "      <td>0.035196</td>\n",
       "      <td>0.035130</td>\n",
       "      <td>0.035149</td>\n",
       "      <td>314.006</td>\n",
       "    </tr>\n",
       "  </tbody>\n",
       "</table>\n",
       "</div>"
      ],
      "text/plain": [
       "                          datetime      open      high       low     close  \\\n",
       "2021-04-07 20:00:00  1617818400000  0.035088  0.035195  0.035044  0.035192   \n",
       "2021-04-07 20:05:00  1617818700000  0.035195  0.035253  0.035193  0.035241   \n",
       "2021-04-07 20:10:00  1617819000000  0.035240  0.035305  0.035230  0.035269   \n",
       "2021-04-07 20:15:00  1617819300000  0.035270  0.035327  0.035251  0.035262   \n",
       "2021-04-07 20:20:00  1617819600000  0.035263  0.035263  0.035172  0.035178   \n",
       "2021-04-07 20:25:00  1617819900000  0.035181  0.035220  0.035131  0.035143   \n",
       "2021-04-07 20:30:00  1617820200000  0.035151  0.035175  0.035110  0.035138   \n",
       "2021-04-07 20:35:00  1617820500000  0.035140  0.035212  0.035126  0.035154   \n",
       "2021-04-07 20:40:00  1617820800000  0.035154  0.035259  0.035130  0.035236   \n",
       "2021-04-07 20:45:00  1617821100000  0.035235  0.035238  0.035148  0.035190   \n",
       "2021-04-07 20:50:00  1617821400000  0.035190  0.035229  0.035168  0.035193   \n",
       "2021-04-07 20:55:00  1617821700000  0.035193  0.035196  0.035130  0.035149   \n",
       "\n",
       "                       volume  \n",
       "2021-04-07 20:00:00  1111.029  \n",
       "2021-04-07 20:05:00   654.337  \n",
       "2021-04-07 20:10:00   718.911  \n",
       "2021-04-07 20:15:00   690.344  \n",
       "2021-04-07 20:20:00   684.590  \n",
       "2021-04-07 20:25:00   677.575  \n",
       "2021-04-07 20:30:00   672.278  \n",
       "2021-04-07 20:35:00   646.707  \n",
       "2021-04-07 20:40:00   755.288  \n",
       "2021-04-07 20:45:00   682.983  \n",
       "2021-04-07 20:50:00   561.327  \n",
       "2021-04-07 20:55:00   314.006  "
      ]
     },
     "execution_count": 63,
     "metadata": {},
     "output_type": "execute_result"
    }
   ],
   "source": [
    "df"
   ]
  },
  {
   "cell_type": "code",
   "execution_count": 64,
   "id": "popular-loading",
   "metadata": {},
   "outputs": [
    {
     "data": {
      "text/plain": [
       "<AxesSubplot:>"
      ]
     },
     "execution_count": 64,
     "metadata": {},
     "output_type": "execute_result"
    },
    {
     "data": {
      "image/png": "[encoded data removed]",
      "text/plain": [
       "<Figure size 432x288 with 1 Axes>"
      ]
     },
     "metadata": {
      "needs_background": "light"
     },
     "output_type": "display_data"
    }
   ],
   "source": [
    "df['volume'].plot()"
   ]
  },
  {
   "cell_type": "code",
   "execution_count": 65,
   "id": "existing-henry",
   "metadata": {},
   "outputs": [
    {
     "data": {
      "text/plain": [
       "<AxesSubplot:>"
      ]
     },
     "execution_count": 65,
     "metadata": {},
     "output_type": "execute_result"
    },
    {
     "data": {
      "image/png": "[encoded data removed]",
      "text/plain": [
       "<Figure size 432x288 with 1 Axes>"
      ]
     },
     "metadata": {
      "needs_background": "light"
     },
     "output_type": "display_data"
    }
   ],
   "source": [
    "df['close'].plot()"
   ]
  },
  {
   "cell_type": "code",
   "execution_count": null,
   "id": "handmade-insider",
   "metadata": {},
   "outputs": [],
   "source": [
    "# check growth in volume\n",
    "# check growth in closing price\n",
    "# check for market cap\n",
    "# create a short list\n",
    "# sort list\n",
    "# attach a prio ranking\n",
    "# export data"
   ]
  }
 ],
 "metadata": {
  "kernelspec": {
   "display_name": "Python 3",
   "language": "python",
   "name": "python3"
  },
  "language_info": {
   "codemirror_mode": {
    "name": "ipython",
    "version": 3
   },
   "file_extension": ".py",
   "mimetype": "text/x-python",
   "name": "python",
   "nbconvert_exporter": "python",
   "pygments_lexer": "ipython3",
   "version": "3.8.8"
  }
 },
 "nbformat": 4,
 "nbformat_minor": 5
}
