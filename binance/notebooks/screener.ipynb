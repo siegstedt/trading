{
 "cells": [
  {
   "cell_type": "markdown",
   "id": "legendary-campus",
   "metadata": {},
   "source": [
    "# screener"
   ]
  },
  {
   "cell_type": "code",
   "execution_count": 1,
   "id": "dental-cannon",
   "metadata": {},
   "outputs": [
    {
     "name": "stdout",
     "output_type": "stream",
     "text": [
      "/Users/siegstedt/projects/trading/binance\n"
     ]
    }
   ],
   "source": [
    "import os\n",
    "os.chdir('/Users/siegstedt/projects/trading/binance')\n",
    "!pwd"
   ]
  },
  {
   "cell_type": "code",
   "execution_count": 2,
   "id": "backed-consent",
   "metadata": {},
   "outputs": [],
   "source": [
    "import requests\n",
    "import json\n",
    "import pandas as pd\n",
    "import numpy as np\n",
    "import datetime as dt"
   ]
  },
  {
   "cell_type": "markdown",
   "id": "dedicated-provider",
   "metadata": {},
   "source": [
    "#### request all tickers"
   ]
  },
  {
   "cell_type": "code",
   "execution_count": 4,
   "id": "coordinated-transcription",
   "metadata": {},
   "outputs": [],
   "source": [
    "import src.binance_helpers as help_to"
   ]
  },
  {
   "cell_type": "code",
   "execution_count": 5,
   "id": "bottom-february",
   "metadata": {},
   "outputs": [
    {
     "data": {
      "text/html": [
       "<div>\n",
       "<style scoped>\n",
       "    .dataframe tbody tr th:only-of-type {\n",
       "        vertical-align: middle;\n",
       "    }\n",
       "\n",
       "    .dataframe tbody tr th {\n",
       "        vertical-align: top;\n",
       "    }\n",
       "\n",
       "    .dataframe thead th {\n",
       "        text-align: right;\n",
       "    }\n",
       "</style>\n",
       "<table border=\"1\" class=\"dataframe\">\n",
       "  <thead>\n",
       "    <tr style=\"text-align: right;\">\n",
       "      <th></th>\n",
       "      <th>symbol</th>\n",
       "      <th>price</th>\n",
       "    </tr>\n",
       "  </thead>\n",
       "  <tbody>\n",
       "    <tr>\n",
       "      <th>0</th>\n",
       "      <td>BTCUSDT</td>\n",
       "      <td>62190.00000000</td>\n",
       "    </tr>\n",
       "    <tr>\n",
       "      <th>1</th>\n",
       "      <td>ETHUSDT</td>\n",
       "      <td>2461.03000000</td>\n",
       "    </tr>\n",
       "    <tr>\n",
       "      <th>2</th>\n",
       "      <td>BNBUSDT</td>\n",
       "      <td>541.98020000</td>\n",
       "    </tr>\n",
       "    <tr>\n",
       "      <th>3</th>\n",
       "      <td>BCCUSDT</td>\n",
       "      <td>448.70000000</td>\n",
       "    </tr>\n",
       "    <tr>\n",
       "      <th>4</th>\n",
       "      <td>NEOUSDT</td>\n",
       "      <td>100.11700000</td>\n",
       "    </tr>\n",
       "  </tbody>\n",
       "</table>\n",
       "</div>"
      ],
      "text/plain": [
       "    symbol           price\n",
       "0  BTCUSDT  62190.00000000\n",
       "1  ETHUSDT   2461.03000000\n",
       "2  BNBUSDT    541.98020000\n",
       "3  BCCUSDT    448.70000000\n",
       "4  NEOUSDT    100.11700000"
      ]
     },
     "execution_count": 5,
     "metadata": {},
     "output_type": "execute_result"
    }
   ],
   "source": [
    "all_tickers = help_to.get_all_tickers(markets=['USDT','EUR'])\n",
    "all_tickers.head()"
   ]
  },
  {
   "cell_type": "code",
   "execution_count": 29,
   "id": "beginning-stanford",
   "metadata": {},
   "outputs": [],
   "source": [
    "# extract list of symbols\n",
    "symbols = all_tickers.symbol.to_list()"
   ]
  },
  {
   "cell_type": "code",
   "execution_count": 30,
   "id": "reported-bathroom",
   "metadata": {},
   "outputs": [],
   "source": [
    "# clean tickers from 'UP' 'DOWN' products\n",
    "symbols = [\n",
    "    i for i \n",
    "    in symbols\n",
    "    if not ('UP' in i or 'DOWN' in i)\n",
    "]"
   ]
  },
  {
   "cell_type": "code",
   "execution_count": 31,
   "id": "limited-lambda",
   "metadata": {},
   "outputs": [
    {
     "data": {
      "text/plain": [
       "281"
      ]
     },
     "execution_count": 31,
     "metadata": {},
     "output_type": "execute_result"
    }
   ],
   "source": [
    "len(symbols)"
   ]
  },
  {
   "cell_type": "markdown",
   "id": "british-comfort",
   "metadata": {},
   "source": [
    "#### request short-term data for symbol"
   ]
  },
  {
   "cell_type": "code",
   "execution_count": null,
   "id": "perfect-healthcare",
   "metadata": {},
   "outputs": [],
   "source": [
    "# check growth in volume\n",
    "# check growth in closing price\n",
    "# check for market cap\n",
    "# create a short list\n",
    "# sort list\n",
    "# attach a prio ranking\n",
    "# export data"
   ]
  },
  {
   "cell_type": "code",
   "execution_count": 32,
   "id": "turned-simple",
   "metadata": {},
   "outputs": [
    {
     "data": {
      "text/plain": [
       "'BTCUSDT'"
      ]
     },
     "execution_count": 32,
     "metadata": {},
     "output_type": "execute_result"
    }
   ],
   "source": [
    "# choose a symbol\n",
    "symbol = symbols[0]\n",
    "symbol"
   ]
  },
  {
   "cell_type": "code",
   "execution_count": 17,
   "id": "removed-learning",
   "metadata": {},
   "outputs": [],
   "source": [
    "# get data for last hour in 5 minute intervals\n",
    "end_time = dt.datetime.now()\n",
    "start_time = dt.datetime.now() - dt.timedelta(seconds=24*60*60)\n",
    "\n",
    "# request data\n",
    "history = help_to.get_historical_bars(symbol, '5m', start_time, end_time)"
   ]
  },
  {
   "cell_type": "code",
   "execution_count": 33,
   "id": "adopted-drink",
   "metadata": {},
   "outputs": [
    {
     "data": {
      "text/html": [
       "<div>\n",
       "<style scoped>\n",
       "    .dataframe tbody tr th:only-of-type {\n",
       "        vertical-align: middle;\n",
       "    }\n",
       "\n",
       "    .dataframe tbody tr th {\n",
       "        vertical-align: top;\n",
       "    }\n",
       "\n",
       "    .dataframe thead th {\n",
       "        text-align: right;\n",
       "    }\n",
       "</style>\n",
       "<table border=\"1\" class=\"dataframe\">\n",
       "  <thead>\n",
       "    <tr style=\"text-align: right;\">\n",
       "      <th></th>\n",
       "      <th>datetime</th>\n",
       "      <th>open</th>\n",
       "      <th>high</th>\n",
       "      <th>low</th>\n",
       "      <th>close</th>\n",
       "      <th>volume</th>\n",
       "    </tr>\n",
       "  </thead>\n",
       "  <tbody>\n",
       "    <tr>\n",
       "      <th>2021-04-16 11:30:00</th>\n",
       "      <td>1618565400000</td>\n",
       "      <td>60726.26</td>\n",
       "      <td>60836.69</td>\n",
       "      <td>60510.00</td>\n",
       "      <td>60536.53</td>\n",
       "      <td>492.105996</td>\n",
       "    </tr>\n",
       "    <tr>\n",
       "      <th>2021-04-16 11:35:00</th>\n",
       "      <td>1618565700000</td>\n",
       "      <td>60536.53</td>\n",
       "      <td>60676.49</td>\n",
       "      <td>60400.00</td>\n",
       "      <td>60600.78</td>\n",
       "      <td>676.261717</td>\n",
       "    </tr>\n",
       "    <tr>\n",
       "      <th>2021-04-16 11:40:00</th>\n",
       "      <td>1618566000000</td>\n",
       "      <td>60600.79</td>\n",
       "      <td>60679.73</td>\n",
       "      <td>60460.00</td>\n",
       "      <td>60473.75</td>\n",
       "      <td>308.215551</td>\n",
       "    </tr>\n",
       "    <tr>\n",
       "      <th>2021-04-16 11:45:00</th>\n",
       "      <td>1618566300000</td>\n",
       "      <td>60481.03</td>\n",
       "      <td>60676.47</td>\n",
       "      <td>60416.66</td>\n",
       "      <td>60601.61</td>\n",
       "      <td>346.934147</td>\n",
       "    </tr>\n",
       "    <tr>\n",
       "      <th>2021-04-16 11:50:00</th>\n",
       "      <td>1618566600000</td>\n",
       "      <td>60601.62</td>\n",
       "      <td>60786.20</td>\n",
       "      <td>60483.77</td>\n",
       "      <td>60753.71</td>\n",
       "      <td>309.615667</td>\n",
       "    </tr>\n",
       "    <tr>\n",
       "      <th>...</th>\n",
       "      <td>...</td>\n",
       "      <td>...</td>\n",
       "      <td>...</td>\n",
       "      <td>...</td>\n",
       "      <td>...</td>\n",
       "      <td>...</td>\n",
       "    </tr>\n",
       "    <tr>\n",
       "      <th>2021-04-17 11:05:00</th>\n",
       "      <td>1618650300000</td>\n",
       "      <td>62311.15</td>\n",
       "      <td>62311.65</td>\n",
       "      <td>62180.00</td>\n",
       "      <td>62219.84</td>\n",
       "      <td>176.368244</td>\n",
       "    </tr>\n",
       "    <tr>\n",
       "      <th>2021-04-17 11:10:00</th>\n",
       "      <td>1618650600000</td>\n",
       "      <td>62219.83</td>\n",
       "      <td>62262.00</td>\n",
       "      <td>62136.68</td>\n",
       "      <td>62185.04</td>\n",
       "      <td>365.439783</td>\n",
       "    </tr>\n",
       "    <tr>\n",
       "      <th>2021-04-17 11:15:00</th>\n",
       "      <td>1618650900000</td>\n",
       "      <td>62185.04</td>\n",
       "      <td>62185.04</td>\n",
       "      <td>61957.52</td>\n",
       "      <td>62002.48</td>\n",
       "      <td>322.056382</td>\n",
       "    </tr>\n",
       "    <tr>\n",
       "      <th>2021-04-17 11:20:00</th>\n",
       "      <td>1618651200000</td>\n",
       "      <td>62002.49</td>\n",
       "      <td>62004.97</td>\n",
       "      <td>61779.51</td>\n",
       "      <td>61847.03</td>\n",
       "      <td>296.096622</td>\n",
       "    </tr>\n",
       "    <tr>\n",
       "      <th>2021-04-17 11:25:00</th>\n",
       "      <td>1618651500000</td>\n",
       "      <td>61847.03</td>\n",
       "      <td>61847.12</td>\n",
       "      <td>61672.27</td>\n",
       "      <td>61688.31</td>\n",
       "      <td>325.051943</td>\n",
       "    </tr>\n",
       "  </tbody>\n",
       "</table>\n",
       "<p>288 rows × 6 columns</p>\n",
       "</div>"
      ],
      "text/plain": [
       "                          datetime      open      high       low     close  \\\n",
       "2021-04-16 11:30:00  1618565400000  60726.26  60836.69  60510.00  60536.53   \n",
       "2021-04-16 11:35:00  1618565700000  60536.53  60676.49  60400.00  60600.78   \n",
       "2021-04-16 11:40:00  1618566000000  60600.79  60679.73  60460.00  60473.75   \n",
       "2021-04-16 11:45:00  1618566300000  60481.03  60676.47  60416.66  60601.61   \n",
       "2021-04-16 11:50:00  1618566600000  60601.62  60786.20  60483.77  60753.71   \n",
       "...                            ...       ...       ...       ...       ...   \n",
       "2021-04-17 11:05:00  1618650300000  62311.15  62311.65  62180.00  62219.84   \n",
       "2021-04-17 11:10:00  1618650600000  62219.83  62262.00  62136.68  62185.04   \n",
       "2021-04-17 11:15:00  1618650900000  62185.04  62185.04  61957.52  62002.48   \n",
       "2021-04-17 11:20:00  1618651200000  62002.49  62004.97  61779.51  61847.03   \n",
       "2021-04-17 11:25:00  1618651500000  61847.03  61847.12  61672.27  61688.31   \n",
       "\n",
       "                         volume  \n",
       "2021-04-16 11:30:00  492.105996  \n",
       "2021-04-16 11:35:00  676.261717  \n",
       "2021-04-16 11:40:00  308.215551  \n",
       "2021-04-16 11:45:00  346.934147  \n",
       "2021-04-16 11:50:00  309.615667  \n",
       "...                         ...  \n",
       "2021-04-17 11:05:00  176.368244  \n",
       "2021-04-17 11:10:00  365.439783  \n",
       "2021-04-17 11:15:00  322.056382  \n",
       "2021-04-17 11:20:00  296.096622  \n",
       "2021-04-17 11:25:00  325.051943  \n",
       "\n",
       "[288 rows x 6 columns]"
      ]
     },
     "execution_count": 33,
     "metadata": {},
     "output_type": "execute_result"
    }
   ],
   "source": [
    "history"
   ]
  },
  {
   "cell_type": "code",
   "execution_count": 75,
   "id": "tight-parts",
   "metadata": {},
   "outputs": [
    {
     "data": {
      "text/plain": [
       "{'volume_surge_15min': False,\n",
       " 'volume_surge_30min': True,\n",
       " 'volume_surge_60min': True}"
      ]
     },
     "execution_count": 75,
     "metadata": {},
     "output_type": "execute_result"
    }
   ],
   "source": [
    "# check for surge in volume in the last 30 minutes\n",
    "history['volume_change_abs'] = history.volume - history.volume.shift(1)\n",
    "history['volume_change_rel'] = history.volume_change_abs / history.volume.shift(1)\n",
    "\n",
    "def _report_surge(volume_change_rel_series, mins, threshold=0.5):\n",
    "    mins = int(mins/5)\n",
    "    max_surge = volume_change_rel_series[-mins:].max()\n",
    "    if max_surge > threshold:\n",
    "        return True\n",
    "    else:\n",
    "        return False\n",
    "\n",
    "# store values in dict\n",
    "volume_surge_dict = {\n",
    "    'volume_surge_15min': _report_surge(history['volume_change_rel'], 15, threshold=0.5),\n",
    "    'volume_surge_30min': _report_surge(history['volume_change_rel'], 30, threshold=0.5),\n",
    "    'volume_surge_60min': _report_surge(history['volume_change_rel'], 60, threshold=0.5),\n",
    "}\n",
    "volume_surge_dict"
   ]
  },
  {
   "cell_type": "code",
   "execution_count": 73,
   "id": "happy-links",
   "metadata": {},
   "outputs": [],
   "source": [
    "# check growth in closing price\n",
    "history['close_change_abs'] = history.close - history.close.shift(1)\n",
    "history['close_change_rel'] = history.close_change_abs / history.close.shift(1)"
   ]
  },
  {
   "cell_type": "code",
   "execution_count": 74,
   "id": "parliamentary-machinery",
   "metadata": {
    "collapsed": true,
    "jupyter": {
     "outputs_hidden": true
    }
   },
   "outputs": [
    {
     "data": {
      "text/html": [
       "<div>\n",
       "<style scoped>\n",
       "    .dataframe tbody tr th:only-of-type {\n",
       "        vertical-align: middle;\n",
       "    }\n",
       "\n",
       "    .dataframe tbody tr th {\n",
       "        vertical-align: top;\n",
       "    }\n",
       "\n",
       "    .dataframe thead th {\n",
       "        text-align: right;\n",
       "    }\n",
       "</style>\n",
       "<table border=\"1\" class=\"dataframe\">\n",
       "  <thead>\n",
       "    <tr style=\"text-align: right;\">\n",
       "      <th></th>\n",
       "      <th>datetime</th>\n",
       "      <th>open</th>\n",
       "      <th>high</th>\n",
       "      <th>low</th>\n",
       "      <th>close</th>\n",
       "      <th>volume</th>\n",
       "      <th>volume_change_abs</th>\n",
       "      <th>volume_change_rel</th>\n",
       "      <th>close_change_abs</th>\n",
       "      <th>close_change_rel</th>\n",
       "    </tr>\n",
       "  </thead>\n",
       "  <tbody>\n",
       "    <tr>\n",
       "      <th>2021-04-16 11:30:00</th>\n",
       "      <td>1618565400000</td>\n",
       "      <td>60726.26</td>\n",
       "      <td>60836.69</td>\n",
       "      <td>60510.00</td>\n",
       "      <td>60536.53</td>\n",
       "      <td>492.105996</td>\n",
       "      <td>NaN</td>\n",
       "      <td>NaN</td>\n",
       "      <td>NaN</td>\n",
       "      <td>NaN</td>\n",
       "    </tr>\n",
       "    <tr>\n",
       "      <th>2021-04-16 11:35:00</th>\n",
       "      <td>1618565700000</td>\n",
       "      <td>60536.53</td>\n",
       "      <td>60676.49</td>\n",
       "      <td>60400.00</td>\n",
       "      <td>60600.78</td>\n",
       "      <td>676.261717</td>\n",
       "      <td>184.155721</td>\n",
       "      <td>0.374220</td>\n",
       "      <td>64.25</td>\n",
       "      <td>0.001061</td>\n",
       "    </tr>\n",
       "    <tr>\n",
       "      <th>2021-04-16 11:40:00</th>\n",
       "      <td>1618566000000</td>\n",
       "      <td>60600.79</td>\n",
       "      <td>60679.73</td>\n",
       "      <td>60460.00</td>\n",
       "      <td>60473.75</td>\n",
       "      <td>308.215551</td>\n",
       "      <td>-368.046166</td>\n",
       "      <td>-0.544236</td>\n",
       "      <td>-127.03</td>\n",
       "      <td>-0.002096</td>\n",
       "    </tr>\n",
       "    <tr>\n",
       "      <th>2021-04-16 11:45:00</th>\n",
       "      <td>1618566300000</td>\n",
       "      <td>60481.03</td>\n",
       "      <td>60676.47</td>\n",
       "      <td>60416.66</td>\n",
       "      <td>60601.61</td>\n",
       "      <td>346.934147</td>\n",
       "      <td>38.718596</td>\n",
       "      <td>0.125622</td>\n",
       "      <td>127.86</td>\n",
       "      <td>0.002114</td>\n",
       "    </tr>\n",
       "    <tr>\n",
       "      <th>2021-04-16 11:50:00</th>\n",
       "      <td>1618566600000</td>\n",
       "      <td>60601.62</td>\n",
       "      <td>60786.20</td>\n",
       "      <td>60483.77</td>\n",
       "      <td>60753.71</td>\n",
       "      <td>309.615667</td>\n",
       "      <td>-37.318480</td>\n",
       "      <td>-0.107566</td>\n",
       "      <td>152.10</td>\n",
       "      <td>0.002510</td>\n",
       "    </tr>\n",
       "    <tr>\n",
       "      <th>...</th>\n",
       "      <td>...</td>\n",
       "      <td>...</td>\n",
       "      <td>...</td>\n",
       "      <td>...</td>\n",
       "      <td>...</td>\n",
       "      <td>...</td>\n",
       "      <td>...</td>\n",
       "      <td>...</td>\n",
       "      <td>...</td>\n",
       "      <td>...</td>\n",
       "    </tr>\n",
       "    <tr>\n",
       "      <th>2021-04-17 11:05:00</th>\n",
       "      <td>1618650300000</td>\n",
       "      <td>62311.15</td>\n",
       "      <td>62311.65</td>\n",
       "      <td>62180.00</td>\n",
       "      <td>62219.84</td>\n",
       "      <td>176.368244</td>\n",
       "      <td>-32.196906</td>\n",
       "      <td>-0.154373</td>\n",
       "      <td>-91.31</td>\n",
       "      <td>-0.001465</td>\n",
       "    </tr>\n",
       "    <tr>\n",
       "      <th>2021-04-17 11:10:00</th>\n",
       "      <td>1618650600000</td>\n",
       "      <td>62219.83</td>\n",
       "      <td>62262.00</td>\n",
       "      <td>62136.68</td>\n",
       "      <td>62185.04</td>\n",
       "      <td>365.439783</td>\n",
       "      <td>189.071539</td>\n",
       "      <td>1.072027</td>\n",
       "      <td>-34.80</td>\n",
       "      <td>-0.000559</td>\n",
       "    </tr>\n",
       "    <tr>\n",
       "      <th>2021-04-17 11:15:00</th>\n",
       "      <td>1618650900000</td>\n",
       "      <td>62185.04</td>\n",
       "      <td>62185.04</td>\n",
       "      <td>61957.52</td>\n",
       "      <td>62002.48</td>\n",
       "      <td>322.056382</td>\n",
       "      <td>-43.383401</td>\n",
       "      <td>-0.118716</td>\n",
       "      <td>-182.56</td>\n",
       "      <td>-0.002936</td>\n",
       "    </tr>\n",
       "    <tr>\n",
       "      <th>2021-04-17 11:20:00</th>\n",
       "      <td>1618651200000</td>\n",
       "      <td>62002.49</td>\n",
       "      <td>62004.97</td>\n",
       "      <td>61779.51</td>\n",
       "      <td>61847.03</td>\n",
       "      <td>296.096622</td>\n",
       "      <td>-25.959760</td>\n",
       "      <td>-0.080606</td>\n",
       "      <td>-155.45</td>\n",
       "      <td>-0.002507</td>\n",
       "    </tr>\n",
       "    <tr>\n",
       "      <th>2021-04-17 11:25:00</th>\n",
       "      <td>1618651500000</td>\n",
       "      <td>61847.03</td>\n",
       "      <td>61847.12</td>\n",
       "      <td>61672.27</td>\n",
       "      <td>61688.31</td>\n",
       "      <td>325.051943</td>\n",
       "      <td>28.955321</td>\n",
       "      <td>0.097790</td>\n",
       "      <td>-158.72</td>\n",
       "      <td>-0.002566</td>\n",
       "    </tr>\n",
       "  </tbody>\n",
       "</table>\n",
       "<p>288 rows × 10 columns</p>\n",
       "</div>"
      ],
      "text/plain": [
       "                          datetime      open      high       low     close  \\\n",
       "2021-04-16 11:30:00  1618565400000  60726.26  60836.69  60510.00  60536.53   \n",
       "2021-04-16 11:35:00  1618565700000  60536.53  60676.49  60400.00  60600.78   \n",
       "2021-04-16 11:40:00  1618566000000  60600.79  60679.73  60460.00  60473.75   \n",
       "2021-04-16 11:45:00  1618566300000  60481.03  60676.47  60416.66  60601.61   \n",
       "2021-04-16 11:50:00  1618566600000  60601.62  60786.20  60483.77  60753.71   \n",
       "...                            ...       ...       ...       ...       ...   \n",
       "2021-04-17 11:05:00  1618650300000  62311.15  62311.65  62180.00  62219.84   \n",
       "2021-04-17 11:10:00  1618650600000  62219.83  62262.00  62136.68  62185.04   \n",
       "2021-04-17 11:15:00  1618650900000  62185.04  62185.04  61957.52  62002.48   \n",
       "2021-04-17 11:20:00  1618651200000  62002.49  62004.97  61779.51  61847.03   \n",
       "2021-04-17 11:25:00  1618651500000  61847.03  61847.12  61672.27  61688.31   \n",
       "\n",
       "                         volume  volume_change_abs  volume_change_rel  \\\n",
       "2021-04-16 11:30:00  492.105996                NaN                NaN   \n",
       "2021-04-16 11:35:00  676.261717         184.155721           0.374220   \n",
       "2021-04-16 11:40:00  308.215551        -368.046166          -0.544236   \n",
       "2021-04-16 11:45:00  346.934147          38.718596           0.125622   \n",
       "2021-04-16 11:50:00  309.615667         -37.318480          -0.107566   \n",
       "...                         ...                ...                ...   \n",
       "2021-04-17 11:05:00  176.368244         -32.196906          -0.154373   \n",
       "2021-04-17 11:10:00  365.439783         189.071539           1.072027   \n",
       "2021-04-17 11:15:00  322.056382         -43.383401          -0.118716   \n",
       "2021-04-17 11:20:00  296.096622         -25.959760          -0.080606   \n",
       "2021-04-17 11:25:00  325.051943          28.955321           0.097790   \n",
       "\n",
       "                     close_change_abs  close_change_rel  \n",
       "2021-04-16 11:30:00               NaN               NaN  \n",
       "2021-04-16 11:35:00             64.25          0.001061  \n",
       "2021-04-16 11:40:00           -127.03         -0.002096  \n",
       "2021-04-16 11:45:00            127.86          0.002114  \n",
       "2021-04-16 11:50:00            152.10          0.002510  \n",
       "...                               ...               ...  \n",
       "2021-04-17 11:05:00            -91.31         -0.001465  \n",
       "2021-04-17 11:10:00            -34.80         -0.000559  \n",
       "2021-04-17 11:15:00           -182.56         -0.002936  \n",
       "2021-04-17 11:20:00           -155.45         -0.002507  \n",
       "2021-04-17 11:25:00           -158.72         -0.002566  \n",
       "\n",
       "[288 rows x 10 columns]"
      ]
     },
     "execution_count": 74,
     "metadata": {},
     "output_type": "execute_result"
    }
   ],
   "source": [
    "history"
   ]
  },
  {
   "cell_type": "code",
   "execution_count": 76,
   "id": "undefined-cancer",
   "metadata": {},
   "outputs": [
    {
     "data": {
      "text/plain": [
       "{'close_surge_15min': False,\n",
       " 'close_surge_30min': False,\n",
       " 'close_surge_60min': False}"
      ]
     },
     "execution_count": 76,
     "metadata": {},
     "output_type": "execute_result"
    }
   ],
   "source": [
    "# store values in dict\n",
    "close_surge_dict = {\n",
    "    'close_surge_15min': _report_surge(history['close_change_rel'], 15, threshold=0.5),\n",
    "    'close_surge_30min': _report_surge(history['close_change_rel'], 30, threshold=0.5),\n",
    "    'close_surge_60min': _report_surge(history['close_change_rel'], 60, threshold=0.5),\n",
    "}\n",
    "close_surge_dict"
   ]
  },
  {
   "cell_type": "code",
   "execution_count": null,
   "id": "first-subscription",
   "metadata": {},
   "outputs": [],
   "source": []
  }
 ],
 "metadata": {
  "kernelspec": {
   "display_name": "Python 3",
   "language": "python",
   "name": "python3"
  },
  "language_info": {
   "codemirror_mode": {
    "name": "ipython",
    "version": 3
   },
   "file_extension": ".py",
   "mimetype": "text/x-python",
   "name": "python",
   "nbconvert_exporter": "python",
   "pygments_lexer": "ipython3",
   "version": "3.8.8"
  }
 },
 "nbformat": 4,
 "nbformat_minor": 5
}
